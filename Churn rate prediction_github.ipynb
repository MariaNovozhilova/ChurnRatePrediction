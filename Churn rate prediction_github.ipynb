{
 "cells": [
  {
   "cell_type": "markdown",
   "id": "3b18b1d0",
   "metadata": {},
   "source": [
    "Задача\n",
    "\n",
    "Для разработки стратегии взаимодействия с клиентами провести анализ клиентской базы.\n",
    "\n",
    "- Сделать прогноз вероятности оттока (на уровне следующего месяца) для каждого клиента;\n",
    "- сформировать типичные портреты клиентов: выделить несколько наиболее ярких групп и охарактеризовать их основные свойства;\n",
    "- проанализировать основные признаки, наиболее сильно влияющие на отток;\n",
    "- сформулировать основные выводы и разработать рекомендации по повышению качества работы с клиентами:\n",
    "    1) выделить целевые группы клиентов;\n",
    "    2) предложить меры по снижению оттока;\n",
    "    3) другие особенности взаимодействия с клиентами.\n",
    "    \n",
    "Индикатор оттока: отсутствие посещений спорт-зала за последний месяц"
   ]
  },
  {
   "cell_type": "markdown",
   "id": "d19b2453",
   "metadata": {},
   "source": [
    "# Загрузка данных"
   ]
  },
  {
   "cell_type": "code",
   "execution_count": 1,
   "id": "ad8c5bff",
   "metadata": {},
   "outputs": [],
   "source": [
    "import pandas as pd\n",
    "import matplotlib.pyplot as plt\n",
    "import os\n",
    "import numpy as np\n",
    "import seaborn as sns\n",
    "from IPython.display import display\n",
    "\n",
    "def load_csv_choose_path(filename):\n",
    "    \"\"\"\n",
    "    Функция читает csv файл, проверяя 2 пути,\n",
    "    чтобы не требовалось править код перед отправкой ревьюверу.\n",
    "    Созданна коллективно в da_24_teamwork\n",
    "    \"\"\"\n",
    "    path1 = filename\n",
    "    path2 = '/datasets/' + filename\n",
    "    if os.path.exists(path1):\n",
    "        data = pd.read_csv(path1)\n",
    "    elif os.path.exists(path2):\n",
    "        data = pd.read_csv(path2)\n",
    "    else:\n",
    "        raise FileNotFoundError(filename)\n",
    "    print('-=',filename, '=-') \n",
    "    print()\n",
    "    print(data.info())\n",
    "    print()\n",
    "    display(data.head())\n",
    "    display(data.describe())\n",
    "    return data\n",
    "    "
   ]
  },
  {
   "cell_type": "code",
   "execution_count": 2,
   "id": "1c4077b1",
   "metadata": {},
   "outputs": [
    {
     "name": "stdout",
     "output_type": "stream",
     "text": [
      "-= gym_churn.csv =-\n",
      "\n",
      "<class 'pandas.core.frame.DataFrame'>\n",
      "RangeIndex: 4000 entries, 0 to 3999\n",
      "Data columns (total 14 columns):\n",
      " #   Column                             Non-Null Count  Dtype  \n",
      "---  ------                             --------------  -----  \n",
      " 0   gender                             4000 non-null   int64  \n",
      " 1   Near_Location                      4000 non-null   int64  \n",
      " 2   Partner                            4000 non-null   int64  \n",
      " 3   Promo_friends                      4000 non-null   int64  \n",
      " 4   Phone                              4000 non-null   int64  \n",
      " 5   Contract_period                    4000 non-null   int64  \n",
      " 6   Group_visits                       4000 non-null   int64  \n",
      " 7   Age                                4000 non-null   int64  \n",
      " 8   Avg_additional_charges_total       4000 non-null   float64\n",
      " 9   Month_to_end_contract              4000 non-null   float64\n",
      " 10  Lifetime                           4000 non-null   int64  \n",
      " 11  Avg_class_frequency_total          4000 non-null   float64\n",
      " 12  Avg_class_frequency_current_month  4000 non-null   float64\n",
      " 13  Churn                              4000 non-null   int64  \n",
      "dtypes: float64(4), int64(10)\n",
      "memory usage: 437.6 KB\n",
      "None\n",
      "\n"
     ]
    },
    {
     "data": {
      "text/html": [
       "<div>\n",
       "<style scoped>\n",
       "    .dataframe tbody tr th:only-of-type {\n",
       "        vertical-align: middle;\n",
       "    }\n",
       "\n",
       "    .dataframe tbody tr th {\n",
       "        vertical-align: top;\n",
       "    }\n",
       "\n",
       "    .dataframe thead th {\n",
       "        text-align: right;\n",
       "    }\n",
       "</style>\n",
       "<table border=\"1\" class=\"dataframe\">\n",
       "  <thead>\n",
       "    <tr style=\"text-align: right;\">\n",
       "      <th></th>\n",
       "      <th>gender</th>\n",
       "      <th>Near_Location</th>\n",
       "      <th>Partner</th>\n",
       "      <th>Promo_friends</th>\n",
       "      <th>Phone</th>\n",
       "      <th>Contract_period</th>\n",
       "      <th>Group_visits</th>\n",
       "      <th>Age</th>\n",
       "      <th>Avg_additional_charges_total</th>\n",
       "      <th>Month_to_end_contract</th>\n",
       "      <th>Lifetime</th>\n",
       "      <th>Avg_class_frequency_total</th>\n",
       "      <th>Avg_class_frequency_current_month</th>\n",
       "      <th>Churn</th>\n",
       "    </tr>\n",
       "  </thead>\n",
       "  <tbody>\n",
       "    <tr>\n",
       "      <th>0</th>\n",
       "      <td>1</td>\n",
       "      <td>1</td>\n",
       "      <td>1</td>\n",
       "      <td>1</td>\n",
       "      <td>0</td>\n",
       "      <td>6</td>\n",
       "      <td>1</td>\n",
       "      <td>29</td>\n",
       "      <td>14.227470</td>\n",
       "      <td>5.0</td>\n",
       "      <td>3</td>\n",
       "      <td>0.020398</td>\n",
       "      <td>0.000000</td>\n",
       "      <td>0</td>\n",
       "    </tr>\n",
       "    <tr>\n",
       "      <th>1</th>\n",
       "      <td>0</td>\n",
       "      <td>1</td>\n",
       "      <td>0</td>\n",
       "      <td>0</td>\n",
       "      <td>1</td>\n",
       "      <td>12</td>\n",
       "      <td>1</td>\n",
       "      <td>31</td>\n",
       "      <td>113.202938</td>\n",
       "      <td>12.0</td>\n",
       "      <td>7</td>\n",
       "      <td>1.922936</td>\n",
       "      <td>1.910244</td>\n",
       "      <td>0</td>\n",
       "    </tr>\n",
       "    <tr>\n",
       "      <th>2</th>\n",
       "      <td>0</td>\n",
       "      <td>1</td>\n",
       "      <td>1</td>\n",
       "      <td>0</td>\n",
       "      <td>1</td>\n",
       "      <td>1</td>\n",
       "      <td>0</td>\n",
       "      <td>28</td>\n",
       "      <td>129.448479</td>\n",
       "      <td>1.0</td>\n",
       "      <td>2</td>\n",
       "      <td>1.859098</td>\n",
       "      <td>1.736502</td>\n",
       "      <td>0</td>\n",
       "    </tr>\n",
       "    <tr>\n",
       "      <th>3</th>\n",
       "      <td>0</td>\n",
       "      <td>1</td>\n",
       "      <td>1</td>\n",
       "      <td>1</td>\n",
       "      <td>1</td>\n",
       "      <td>12</td>\n",
       "      <td>1</td>\n",
       "      <td>33</td>\n",
       "      <td>62.669863</td>\n",
       "      <td>12.0</td>\n",
       "      <td>2</td>\n",
       "      <td>3.205633</td>\n",
       "      <td>3.357215</td>\n",
       "      <td>0</td>\n",
       "    </tr>\n",
       "    <tr>\n",
       "      <th>4</th>\n",
       "      <td>1</td>\n",
       "      <td>1</td>\n",
       "      <td>1</td>\n",
       "      <td>1</td>\n",
       "      <td>1</td>\n",
       "      <td>1</td>\n",
       "      <td>0</td>\n",
       "      <td>26</td>\n",
       "      <td>198.362265</td>\n",
       "      <td>1.0</td>\n",
       "      <td>3</td>\n",
       "      <td>1.113884</td>\n",
       "      <td>1.120078</td>\n",
       "      <td>0</td>\n",
       "    </tr>\n",
       "  </tbody>\n",
       "</table>\n",
       "</div>"
      ],
      "text/plain": [
       "   gender  Near_Location  Partner  Promo_friends  Phone  Contract_period  \\\n",
       "0       1              1        1              1      0                6   \n",
       "1       0              1        0              0      1               12   \n",
       "2       0              1        1              0      1                1   \n",
       "3       0              1        1              1      1               12   \n",
       "4       1              1        1              1      1                1   \n",
       "\n",
       "   Group_visits  Age  Avg_additional_charges_total  Month_to_end_contract  \\\n",
       "0             1   29                     14.227470                    5.0   \n",
       "1             1   31                    113.202938                   12.0   \n",
       "2             0   28                    129.448479                    1.0   \n",
       "3             1   33                     62.669863                   12.0   \n",
       "4             0   26                    198.362265                    1.0   \n",
       "\n",
       "   Lifetime  Avg_class_frequency_total  Avg_class_frequency_current_month  \\\n",
       "0         3                   0.020398                           0.000000   \n",
       "1         7                   1.922936                           1.910244   \n",
       "2         2                   1.859098                           1.736502   \n",
       "3         2                   3.205633                           3.357215   \n",
       "4         3                   1.113884                           1.120078   \n",
       "\n",
       "   Churn  \n",
       "0      0  \n",
       "1      0  \n",
       "2      0  \n",
       "3      0  \n",
       "4      0  "
      ]
     },
     "metadata": {},
     "output_type": "display_data"
    },
    {
     "data": {
      "text/html": [
       "<div>\n",
       "<style scoped>\n",
       "    .dataframe tbody tr th:only-of-type {\n",
       "        vertical-align: middle;\n",
       "    }\n",
       "\n",
       "    .dataframe tbody tr th {\n",
       "        vertical-align: top;\n",
       "    }\n",
       "\n",
       "    .dataframe thead th {\n",
       "        text-align: right;\n",
       "    }\n",
       "</style>\n",
       "<table border=\"1\" class=\"dataframe\">\n",
       "  <thead>\n",
       "    <tr style=\"text-align: right;\">\n",
       "      <th></th>\n",
       "      <th>gender</th>\n",
       "      <th>Near_Location</th>\n",
       "      <th>Partner</th>\n",
       "      <th>Promo_friends</th>\n",
       "      <th>Phone</th>\n",
       "      <th>Contract_period</th>\n",
       "      <th>Group_visits</th>\n",
       "      <th>Age</th>\n",
       "      <th>Avg_additional_charges_total</th>\n",
       "      <th>Month_to_end_contract</th>\n",
       "      <th>Lifetime</th>\n",
       "      <th>Avg_class_frequency_total</th>\n",
       "      <th>Avg_class_frequency_current_month</th>\n",
       "      <th>Churn</th>\n",
       "    </tr>\n",
       "  </thead>\n",
       "  <tbody>\n",
       "    <tr>\n",
       "      <th>count</th>\n",
       "      <td>4000.000000</td>\n",
       "      <td>4000.000000</td>\n",
       "      <td>4000.000000</td>\n",
       "      <td>4000.000000</td>\n",
       "      <td>4000.000000</td>\n",
       "      <td>4000.000000</td>\n",
       "      <td>4000.000000</td>\n",
       "      <td>4000.000000</td>\n",
       "      <td>4000.000000</td>\n",
       "      <td>4000.000000</td>\n",
       "      <td>4000.000000</td>\n",
       "      <td>4000.000000</td>\n",
       "      <td>4000.000000</td>\n",
       "      <td>4000.000000</td>\n",
       "    </tr>\n",
       "    <tr>\n",
       "      <th>mean</th>\n",
       "      <td>0.510250</td>\n",
       "      <td>0.845250</td>\n",
       "      <td>0.486750</td>\n",
       "      <td>0.308500</td>\n",
       "      <td>0.903500</td>\n",
       "      <td>4.681250</td>\n",
       "      <td>0.412250</td>\n",
       "      <td>29.184250</td>\n",
       "      <td>146.943728</td>\n",
       "      <td>4.322750</td>\n",
       "      <td>3.724750</td>\n",
       "      <td>1.879020</td>\n",
       "      <td>1.767052</td>\n",
       "      <td>0.265250</td>\n",
       "    </tr>\n",
       "    <tr>\n",
       "      <th>std</th>\n",
       "      <td>0.499957</td>\n",
       "      <td>0.361711</td>\n",
       "      <td>0.499887</td>\n",
       "      <td>0.461932</td>\n",
       "      <td>0.295313</td>\n",
       "      <td>4.549706</td>\n",
       "      <td>0.492301</td>\n",
       "      <td>3.258367</td>\n",
       "      <td>96.355602</td>\n",
       "      <td>4.191297</td>\n",
       "      <td>3.749267</td>\n",
       "      <td>0.972245</td>\n",
       "      <td>1.052906</td>\n",
       "      <td>0.441521</td>\n",
       "    </tr>\n",
       "    <tr>\n",
       "      <th>min</th>\n",
       "      <td>0.000000</td>\n",
       "      <td>0.000000</td>\n",
       "      <td>0.000000</td>\n",
       "      <td>0.000000</td>\n",
       "      <td>0.000000</td>\n",
       "      <td>1.000000</td>\n",
       "      <td>0.000000</td>\n",
       "      <td>18.000000</td>\n",
       "      <td>0.148205</td>\n",
       "      <td>1.000000</td>\n",
       "      <td>0.000000</td>\n",
       "      <td>0.000000</td>\n",
       "      <td>0.000000</td>\n",
       "      <td>0.000000</td>\n",
       "    </tr>\n",
       "    <tr>\n",
       "      <th>25%</th>\n",
       "      <td>0.000000</td>\n",
       "      <td>1.000000</td>\n",
       "      <td>0.000000</td>\n",
       "      <td>0.000000</td>\n",
       "      <td>1.000000</td>\n",
       "      <td>1.000000</td>\n",
       "      <td>0.000000</td>\n",
       "      <td>27.000000</td>\n",
       "      <td>68.868830</td>\n",
       "      <td>1.000000</td>\n",
       "      <td>1.000000</td>\n",
       "      <td>1.180875</td>\n",
       "      <td>0.963003</td>\n",
       "      <td>0.000000</td>\n",
       "    </tr>\n",
       "    <tr>\n",
       "      <th>50%</th>\n",
       "      <td>1.000000</td>\n",
       "      <td>1.000000</td>\n",
       "      <td>0.000000</td>\n",
       "      <td>0.000000</td>\n",
       "      <td>1.000000</td>\n",
       "      <td>1.000000</td>\n",
       "      <td>0.000000</td>\n",
       "      <td>29.000000</td>\n",
       "      <td>136.220159</td>\n",
       "      <td>1.000000</td>\n",
       "      <td>3.000000</td>\n",
       "      <td>1.832768</td>\n",
       "      <td>1.719574</td>\n",
       "      <td>0.000000</td>\n",
       "    </tr>\n",
       "    <tr>\n",
       "      <th>75%</th>\n",
       "      <td>1.000000</td>\n",
       "      <td>1.000000</td>\n",
       "      <td>1.000000</td>\n",
       "      <td>1.000000</td>\n",
       "      <td>1.000000</td>\n",
       "      <td>6.000000</td>\n",
       "      <td>1.000000</td>\n",
       "      <td>31.000000</td>\n",
       "      <td>210.949625</td>\n",
       "      <td>6.000000</td>\n",
       "      <td>5.000000</td>\n",
       "      <td>2.536078</td>\n",
       "      <td>2.510336</td>\n",
       "      <td>1.000000</td>\n",
       "    </tr>\n",
       "    <tr>\n",
       "      <th>max</th>\n",
       "      <td>1.000000</td>\n",
       "      <td>1.000000</td>\n",
       "      <td>1.000000</td>\n",
       "      <td>1.000000</td>\n",
       "      <td>1.000000</td>\n",
       "      <td>12.000000</td>\n",
       "      <td>1.000000</td>\n",
       "      <td>41.000000</td>\n",
       "      <td>552.590740</td>\n",
       "      <td>12.000000</td>\n",
       "      <td>31.000000</td>\n",
       "      <td>6.023668</td>\n",
       "      <td>6.146783</td>\n",
       "      <td>1.000000</td>\n",
       "    </tr>\n",
       "  </tbody>\n",
       "</table>\n",
       "</div>"
      ],
      "text/plain": [
       "            gender  Near_Location      Partner  Promo_friends        Phone  \\\n",
       "count  4000.000000    4000.000000  4000.000000    4000.000000  4000.000000   \n",
       "mean      0.510250       0.845250     0.486750       0.308500     0.903500   \n",
       "std       0.499957       0.361711     0.499887       0.461932     0.295313   \n",
       "min       0.000000       0.000000     0.000000       0.000000     0.000000   \n",
       "25%       0.000000       1.000000     0.000000       0.000000     1.000000   \n",
       "50%       1.000000       1.000000     0.000000       0.000000     1.000000   \n",
       "75%       1.000000       1.000000     1.000000       1.000000     1.000000   \n",
       "max       1.000000       1.000000     1.000000       1.000000     1.000000   \n",
       "\n",
       "       Contract_period  Group_visits          Age  \\\n",
       "count      4000.000000   4000.000000  4000.000000   \n",
       "mean          4.681250      0.412250    29.184250   \n",
       "std           4.549706      0.492301     3.258367   \n",
       "min           1.000000      0.000000    18.000000   \n",
       "25%           1.000000      0.000000    27.000000   \n",
       "50%           1.000000      0.000000    29.000000   \n",
       "75%           6.000000      1.000000    31.000000   \n",
       "max          12.000000      1.000000    41.000000   \n",
       "\n",
       "       Avg_additional_charges_total  Month_to_end_contract     Lifetime  \\\n",
       "count                   4000.000000            4000.000000  4000.000000   \n",
       "mean                     146.943728               4.322750     3.724750   \n",
       "std                       96.355602               4.191297     3.749267   \n",
       "min                        0.148205               1.000000     0.000000   \n",
       "25%                       68.868830               1.000000     1.000000   \n",
       "50%                      136.220159               1.000000     3.000000   \n",
       "75%                      210.949625               6.000000     5.000000   \n",
       "max                      552.590740              12.000000    31.000000   \n",
       "\n",
       "       Avg_class_frequency_total  Avg_class_frequency_current_month  \\\n",
       "count                4000.000000                        4000.000000   \n",
       "mean                    1.879020                           1.767052   \n",
       "std                     0.972245                           1.052906   \n",
       "min                     0.000000                           0.000000   \n",
       "25%                     1.180875                           0.963003   \n",
       "50%                     1.832768                           1.719574   \n",
       "75%                     2.536078                           2.510336   \n",
       "max                     6.023668                           6.146783   \n",
       "\n",
       "             Churn  \n",
       "count  4000.000000  \n",
       "mean      0.265250  \n",
       "std       0.441521  \n",
       "min       0.000000  \n",
       "25%       0.000000  \n",
       "50%       0.000000  \n",
       "75%       1.000000  \n",
       "max       1.000000  "
      ]
     },
     "metadata": {},
     "output_type": "display_data"
    }
   ],
   "source": [
    "df = load_csv_choose_path('gym_churn.csv')"
   ]
  },
  {
   "cell_type": "markdown",
   "id": "fc89f733",
   "metadata": {},
   "source": [
    "# Исследовательский анализ данных (EDA)"
   ]
  },
  {
   "cell_type": "markdown",
   "id": "d9dd3e04",
   "metadata": {},
   "source": [
    "Датасет содержит 14 столбцов по 4000 записей в каждом, без пропусков и аномалий. Все типы данных числовые (int/float), в том числе есть категориальные (1/0).\n",
    "\n",
    "В отток ушло 26,5% пользователей. "
   ]
  },
  {
   "cell_type": "markdown",
   "id": "8de53565",
   "metadata": {},
   "source": [
    "## Lifetime"
   ]
  },
  {
   "cell_type": "markdown",
   "id": "8afa5c7b",
   "metadata": {},
   "source": [
    "Мне показалось сначала, что данные по \"Lifetime\" противоречат данным о длительности контракта (\"Contract_period\"). Среднее время с момента первого обращения в ФЦ не может быть меньше, чем средняя длительность контракта.Поэтому я сделала проверочку.\n",
    "Получилось, что Lifetime, конечно может быть меньше, чем длительность контракта (если клиент только пришел и заключил контракт) и Lifetime равен нулю по тем контрактам, где длительность контракта совпадает с остатком месяцев, то есть клиент только купил абонемент. \n",
    "\n",
    "НО! 137 записей имеют ошибку - Lifetime меньше, чем количество месяцев, которые уже прошли по заключенным контрактам, а так не может быть. \n",
    "Далее в этом разделе проверочка:"
   ]
  },
  {
   "cell_type": "code",
   "execution_count": 3,
   "id": "42a9f5f5",
   "metadata": {
    "scrolled": true
   },
   "outputs": [
    {
     "data": {
      "text/plain": [
       "1     843\n",
       "2     610\n",
       "3     490\n",
       "0     487\n",
       "4     383\n",
       "5     273\n",
       "6     220\n",
       "7     167\n",
       "8     111\n",
       "9     100\n",
       "10     76\n",
       "12     53\n",
       "11     48\n",
       "13     28\n",
       "15     24\n",
       "14     24\n",
       "16     15\n",
       "17     11\n",
       "19      7\n",
       "18      7\n",
       "20      7\n",
       "21      5\n",
       "26      2\n",
       "24      2\n",
       "22      2\n",
       "23      2\n",
       "27      1\n",
       "29      1\n",
       "31      1\n",
       "Name: Lifetime, dtype: int64"
      ]
     },
     "execution_count": 3,
     "metadata": {},
     "output_type": "execute_result"
    }
   ],
   "source": [
    "#Возможно, это данные неполные, посмотрю на них внимательнее:  \n",
    "df['Lifetime'].value_counts()"
   ]
  },
  {
   "cell_type": "markdown",
   "id": "7f536b04",
   "metadata": {},
   "source": [
    "Да, много нулей, смотрю дальше"
   ]
  },
  {
   "cell_type": "code",
   "execution_count": 4,
   "id": "ce34964a",
   "metadata": {},
   "outputs": [
    {
     "data": {
      "text/html": [
       "<div>\n",
       "<style scoped>\n",
       "    .dataframe tbody tr th:only-of-type {\n",
       "        vertical-align: middle;\n",
       "    }\n",
       "\n",
       "    .dataframe tbody tr th {\n",
       "        vertical-align: top;\n",
       "    }\n",
       "\n",
       "    .dataframe thead th {\n",
       "        text-align: right;\n",
       "    }\n",
       "</style>\n",
       "<table border=\"1\" class=\"dataframe\">\n",
       "  <thead>\n",
       "    <tr style=\"text-align: right;\">\n",
       "      <th></th>\n",
       "      <th>gender</th>\n",
       "      <th>Near_Location</th>\n",
       "      <th>Partner</th>\n",
       "      <th>Promo_friends</th>\n",
       "      <th>Phone</th>\n",
       "      <th>Contract_period</th>\n",
       "      <th>Group_visits</th>\n",
       "      <th>Age</th>\n",
       "      <th>Avg_additional_charges_total</th>\n",
       "      <th>Month_to_end_contract</th>\n",
       "      <th>Lifetime</th>\n",
       "      <th>Avg_class_frequency_total</th>\n",
       "      <th>Avg_class_frequency_current_month</th>\n",
       "      <th>Churn</th>\n",
       "    </tr>\n",
       "  </thead>\n",
       "  <tbody>\n",
       "    <tr>\n",
       "      <th>count</th>\n",
       "      <td>487.000000</td>\n",
       "      <td>487.000000</td>\n",
       "      <td>487.000000</td>\n",
       "      <td>487.000000</td>\n",
       "      <td>487.000000</td>\n",
       "      <td>487.000000</td>\n",
       "      <td>487.000000</td>\n",
       "      <td>487.000000</td>\n",
       "      <td>487.000000</td>\n",
       "      <td>487.000000</td>\n",
       "      <td>487.0</td>\n",
       "      <td>487.000000</td>\n",
       "      <td>487.000000</td>\n",
       "      <td>487.000000</td>\n",
       "    </tr>\n",
       "    <tr>\n",
       "      <th>mean</th>\n",
       "      <td>0.496920</td>\n",
       "      <td>0.796715</td>\n",
       "      <td>0.340862</td>\n",
       "      <td>0.207392</td>\n",
       "      <td>0.887064</td>\n",
       "      <td>2.209446</td>\n",
       "      <td>0.308008</td>\n",
       "      <td>27.570842</td>\n",
       "      <td>121.704747</td>\n",
       "      <td>2.090349</td>\n",
       "      <td>0.0</td>\n",
       "      <td>1.541753</td>\n",
       "      <td>1.205104</td>\n",
       "      <td>0.827515</td>\n",
       "    </tr>\n",
       "    <tr>\n",
       "      <th>std</th>\n",
       "      <td>0.500505</td>\n",
       "      <td>0.402857</td>\n",
       "      <td>0.474487</td>\n",
       "      <td>0.405856</td>\n",
       "      <td>0.316840</td>\n",
       "      <td>2.920989</td>\n",
       "      <td>0.462145</td>\n",
       "      <td>3.216248</td>\n",
       "      <td>83.684461</td>\n",
       "      <td>2.651975</td>\n",
       "      <td>0.0</td>\n",
       "      <td>0.801810</td>\n",
       "      <td>0.895059</td>\n",
       "      <td>0.378190</td>\n",
       "    </tr>\n",
       "    <tr>\n",
       "      <th>min</th>\n",
       "      <td>0.000000</td>\n",
       "      <td>0.000000</td>\n",
       "      <td>0.000000</td>\n",
       "      <td>0.000000</td>\n",
       "      <td>0.000000</td>\n",
       "      <td>1.000000</td>\n",
       "      <td>0.000000</td>\n",
       "      <td>18.000000</td>\n",
       "      <td>0.148205</td>\n",
       "      <td>1.000000</td>\n",
       "      <td>0.0</td>\n",
       "      <td>0.000000</td>\n",
       "      <td>0.000000</td>\n",
       "      <td>0.000000</td>\n",
       "    </tr>\n",
       "    <tr>\n",
       "      <th>25%</th>\n",
       "      <td>0.000000</td>\n",
       "      <td>1.000000</td>\n",
       "      <td>0.000000</td>\n",
       "      <td>0.000000</td>\n",
       "      <td>1.000000</td>\n",
       "      <td>1.000000</td>\n",
       "      <td>0.000000</td>\n",
       "      <td>25.000000</td>\n",
       "      <td>56.748492</td>\n",
       "      <td>1.000000</td>\n",
       "      <td>0.0</td>\n",
       "      <td>0.985702</td>\n",
       "      <td>0.478711</td>\n",
       "      <td>1.000000</td>\n",
       "    </tr>\n",
       "    <tr>\n",
       "      <th>50%</th>\n",
       "      <td>0.000000</td>\n",
       "      <td>1.000000</td>\n",
       "      <td>0.000000</td>\n",
       "      <td>0.000000</td>\n",
       "      <td>1.000000</td>\n",
       "      <td>1.000000</td>\n",
       "      <td>0.000000</td>\n",
       "      <td>27.000000</td>\n",
       "      <td>105.266504</td>\n",
       "      <td>1.000000</td>\n",
       "      <td>0.0</td>\n",
       "      <td>1.561419</td>\n",
       "      <td>1.117607</td>\n",
       "      <td>1.000000</td>\n",
       "    </tr>\n",
       "    <tr>\n",
       "      <th>75%</th>\n",
       "      <td>1.000000</td>\n",
       "      <td>1.000000</td>\n",
       "      <td>1.000000</td>\n",
       "      <td>0.000000</td>\n",
       "      <td>1.000000</td>\n",
       "      <td>1.000000</td>\n",
       "      <td>1.000000</td>\n",
       "      <td>30.000000</td>\n",
       "      <td>173.214908</td>\n",
       "      <td>1.000000</td>\n",
       "      <td>0.0</td>\n",
       "      <td>2.087558</td>\n",
       "      <td>1.793432</td>\n",
       "      <td>1.000000</td>\n",
       "    </tr>\n",
       "    <tr>\n",
       "      <th>max</th>\n",
       "      <td>1.000000</td>\n",
       "      <td>1.000000</td>\n",
       "      <td>1.000000</td>\n",
       "      <td>1.000000</td>\n",
       "      <td>1.000000</td>\n",
       "      <td>12.000000</td>\n",
       "      <td>1.000000</td>\n",
       "      <td>36.000000</td>\n",
       "      <td>462.178660</td>\n",
       "      <td>12.000000</td>\n",
       "      <td>0.0</td>\n",
       "      <td>4.483104</td>\n",
       "      <td>4.294359</td>\n",
       "      <td>1.000000</td>\n",
       "    </tr>\n",
       "  </tbody>\n",
       "</table>\n",
       "</div>"
      ],
      "text/plain": [
       "           gender  Near_Location     Partner  Promo_friends       Phone  \\\n",
       "count  487.000000     487.000000  487.000000     487.000000  487.000000   \n",
       "mean     0.496920       0.796715    0.340862       0.207392    0.887064   \n",
       "std      0.500505       0.402857    0.474487       0.405856    0.316840   \n",
       "min      0.000000       0.000000    0.000000       0.000000    0.000000   \n",
       "25%      0.000000       1.000000    0.000000       0.000000    1.000000   \n",
       "50%      0.000000       1.000000    0.000000       0.000000    1.000000   \n",
       "75%      1.000000       1.000000    1.000000       0.000000    1.000000   \n",
       "max      1.000000       1.000000    1.000000       1.000000    1.000000   \n",
       "\n",
       "       Contract_period  Group_visits         Age  \\\n",
       "count       487.000000    487.000000  487.000000   \n",
       "mean          2.209446      0.308008   27.570842   \n",
       "std           2.920989      0.462145    3.216248   \n",
       "min           1.000000      0.000000   18.000000   \n",
       "25%           1.000000      0.000000   25.000000   \n",
       "50%           1.000000      0.000000   27.000000   \n",
       "75%           1.000000      1.000000   30.000000   \n",
       "max          12.000000      1.000000   36.000000   \n",
       "\n",
       "       Avg_additional_charges_total  Month_to_end_contract  Lifetime  \\\n",
       "count                    487.000000             487.000000     487.0   \n",
       "mean                     121.704747               2.090349       0.0   \n",
       "std                       83.684461               2.651975       0.0   \n",
       "min                        0.148205               1.000000       0.0   \n",
       "25%                       56.748492               1.000000       0.0   \n",
       "50%                      105.266504               1.000000       0.0   \n",
       "75%                      173.214908               1.000000       0.0   \n",
       "max                      462.178660              12.000000       0.0   \n",
       "\n",
       "       Avg_class_frequency_total  Avg_class_frequency_current_month  \\\n",
       "count                 487.000000                         487.000000   \n",
       "mean                    1.541753                           1.205104   \n",
       "std                     0.801810                           0.895059   \n",
       "min                     0.000000                           0.000000   \n",
       "25%                     0.985702                           0.478711   \n",
       "50%                     1.561419                           1.117607   \n",
       "75%                     2.087558                           1.793432   \n",
       "max                     4.483104                           4.294359   \n",
       "\n",
       "            Churn  \n",
       "count  487.000000  \n",
       "mean     0.827515  \n",
       "std      0.378190  \n",
       "min      0.000000  \n",
       "25%      1.000000  \n",
       "50%      1.000000  \n",
       "75%      1.000000  \n",
       "max      1.000000  "
      ]
     },
     "execution_count": 4,
     "metadata": {},
     "output_type": "execute_result"
    }
   ],
   "source": [
    "df.query('Lifetime == 0').describe()"
   ]
  },
  {
   "cell_type": "code",
   "execution_count": 5,
   "id": "d87642e0",
   "metadata": {},
   "outputs": [
    {
     "data": {
      "text/plain": [
       "1     2207\n",
       "12     960\n",
       "6      833\n",
       "Name: Contract_period, dtype: int64"
      ]
     },
     "execution_count": 5,
     "metadata": {},
     "output_type": "execute_result"
    }
   ],
   "source": [
    "df['Contract_period'].value_counts()"
   ]
  },
  {
   "cell_type": "code",
   "execution_count": 6,
   "id": "d6cf415e",
   "metadata": {},
   "outputs": [
    {
     "name": "stderr",
     "output_type": "stream",
     "text": [
      "<ipython-input-6-2e6f7950f329>:2: SettingWithCopyWarning: \n",
      "A value is trying to be set on a copy of a slice from a DataFrame.\n",
      "Try using .loc[row_indexer,col_indexer] = value instead\n",
      "\n",
      "See the caveats in the documentation: https://pandas.pydata.org/pandas-docs/stable/user_guide/indexing.html#returning-a-view-versus-a-copy\n",
      "  df_chekup['gap'] = df_chekup['Lifetime'] - (df_chekup['Contract_period']-df_chekup['Month_to_end_contract'])\n"
     ]
    },
    {
     "data": {
      "text/html": [
       "<div>\n",
       "<style scoped>\n",
       "    .dataframe tbody tr th:only-of-type {\n",
       "        vertical-align: middle;\n",
       "    }\n",
       "\n",
       "    .dataframe tbody tr th {\n",
       "        vertical-align: top;\n",
       "    }\n",
       "\n",
       "    .dataframe thead th {\n",
       "        text-align: right;\n",
       "    }\n",
       "</style>\n",
       "<table border=\"1\" class=\"dataframe\">\n",
       "  <thead>\n",
       "    <tr style=\"text-align: right;\">\n",
       "      <th></th>\n",
       "      <th>Lifetime</th>\n",
       "      <th>Contract_period</th>\n",
       "      <th>Month_to_end_contract</th>\n",
       "      <th>gap</th>\n",
       "    </tr>\n",
       "  </thead>\n",
       "  <tbody>\n",
       "    <tr>\n",
       "      <th>0</th>\n",
       "      <td>3</td>\n",
       "      <td>6</td>\n",
       "      <td>5.0</td>\n",
       "      <td>2.0</td>\n",
       "    </tr>\n",
       "    <tr>\n",
       "      <th>1</th>\n",
       "      <td>7</td>\n",
       "      <td>12</td>\n",
       "      <td>12.0</td>\n",
       "      <td>7.0</td>\n",
       "    </tr>\n",
       "    <tr>\n",
       "      <th>2</th>\n",
       "      <td>2</td>\n",
       "      <td>1</td>\n",
       "      <td>1.0</td>\n",
       "      <td>2.0</td>\n",
       "    </tr>\n",
       "    <tr>\n",
       "      <th>3</th>\n",
       "      <td>2</td>\n",
       "      <td>12</td>\n",
       "      <td>12.0</td>\n",
       "      <td>2.0</td>\n",
       "    </tr>\n",
       "    <tr>\n",
       "      <th>4</th>\n",
       "      <td>3</td>\n",
       "      <td>1</td>\n",
       "      <td>1.0</td>\n",
       "      <td>3.0</td>\n",
       "    </tr>\n",
       "    <tr>\n",
       "      <th>...</th>\n",
       "      <td>...</td>\n",
       "      <td>...</td>\n",
       "      <td>...</td>\n",
       "      <td>...</td>\n",
       "    </tr>\n",
       "    <tr>\n",
       "      <th>3995</th>\n",
       "      <td>8</td>\n",
       "      <td>12</td>\n",
       "      <td>12.0</td>\n",
       "      <td>8.0</td>\n",
       "    </tr>\n",
       "    <tr>\n",
       "      <th>3996</th>\n",
       "      <td>1</td>\n",
       "      <td>1</td>\n",
       "      <td>1.0</td>\n",
       "      <td>1.0</td>\n",
       "    </tr>\n",
       "    <tr>\n",
       "      <th>3997</th>\n",
       "      <td>2</td>\n",
       "      <td>12</td>\n",
       "      <td>11.0</td>\n",
       "      <td>1.0</td>\n",
       "    </tr>\n",
       "    <tr>\n",
       "      <th>3998</th>\n",
       "      <td>3</td>\n",
       "      <td>6</td>\n",
       "      <td>5.0</td>\n",
       "      <td>2.0</td>\n",
       "    </tr>\n",
       "    <tr>\n",
       "      <th>3999</th>\n",
       "      <td>1</td>\n",
       "      <td>12</td>\n",
       "      <td>12.0</td>\n",
       "      <td>1.0</td>\n",
       "    </tr>\n",
       "  </tbody>\n",
       "</table>\n",
       "<p>4000 rows × 4 columns</p>\n",
       "</div>"
      ],
      "text/plain": [
       "      Lifetime  Contract_period  Month_to_end_contract  gap\n",
       "0            3                6                    5.0  2.0\n",
       "1            7               12                   12.0  7.0\n",
       "2            2                1                    1.0  2.0\n",
       "3            2               12                   12.0  2.0\n",
       "4            3                1                    1.0  3.0\n",
       "...        ...              ...                    ...  ...\n",
       "3995         8               12                   12.0  8.0\n",
       "3996         1                1                    1.0  1.0\n",
       "3997         2               12                   11.0  1.0\n",
       "3998         3                6                    5.0  2.0\n",
       "3999         1               12                   12.0  1.0\n",
       "\n",
       "[4000 rows x 4 columns]"
      ]
     },
     "execution_count": 6,
     "metadata": {},
     "output_type": "execute_result"
    }
   ],
   "source": [
    "df_chekup = df[['Lifetime','Contract_period','Month_to_end_contract']]\n",
    "df_chekup['gap'] = df_chekup['Lifetime'] - (df_chekup['Contract_period']-df_chekup['Month_to_end_contract'])\n",
    "df_chekup"
   ]
  },
  {
   "cell_type": "code",
   "execution_count": 7,
   "id": "3345bfc3",
   "metadata": {},
   "outputs": [
    {
     "data": {
      "text/plain": [
       "Lifetime                 0.000000\n",
       "Contract_period          2.209446\n",
       "Month_to_end_contract    2.090349\n",
       "gap                     -0.119097\n",
       "dtype: float64"
      ]
     },
     "execution_count": 7,
     "metadata": {},
     "output_type": "execute_result"
    }
   ],
   "source": [
    "df_chekup.query('Lifetime ==0').mean()"
   ]
  },
  {
   "cell_type": "code",
   "execution_count": 8,
   "id": "0749a56b",
   "metadata": {},
   "outputs": [
    {
     "data": {
      "text/html": [
       "<div>\n",
       "<style scoped>\n",
       "    .dataframe tbody tr th:only-of-type {\n",
       "        vertical-align: middle;\n",
       "    }\n",
       "\n",
       "    .dataframe tbody tr th {\n",
       "        vertical-align: top;\n",
       "    }\n",
       "\n",
       "    .dataframe thead th {\n",
       "        text-align: right;\n",
       "    }\n",
       "</style>\n",
       "<table border=\"1\" class=\"dataframe\">\n",
       "  <thead>\n",
       "    <tr style=\"text-align: right;\">\n",
       "      <th></th>\n",
       "      <th>Lifetime</th>\n",
       "      <th>Contract_period</th>\n",
       "      <th>Month_to_end_contract</th>\n",
       "      <th>gap</th>\n",
       "    </tr>\n",
       "  </thead>\n",
       "  <tbody>\n",
       "    <tr>\n",
       "      <th>71</th>\n",
       "      <td>0</td>\n",
       "      <td>12</td>\n",
       "      <td>11.0</td>\n",
       "      <td>-1.0</td>\n",
       "    </tr>\n",
       "    <tr>\n",
       "      <th>72</th>\n",
       "      <td>0</td>\n",
       "      <td>6</td>\n",
       "      <td>5.0</td>\n",
       "      <td>-1.0</td>\n",
       "    </tr>\n",
       "    <tr>\n",
       "      <th>94</th>\n",
       "      <td>0</td>\n",
       "      <td>6</td>\n",
       "      <td>5.0</td>\n",
       "      <td>-1.0</td>\n",
       "    </tr>\n",
       "    <tr>\n",
       "      <th>95</th>\n",
       "      <td>0</td>\n",
       "      <td>6</td>\n",
       "      <td>5.0</td>\n",
       "      <td>-1.0</td>\n",
       "    </tr>\n",
       "    <tr>\n",
       "      <th>107</th>\n",
       "      <td>1</td>\n",
       "      <td>12</td>\n",
       "      <td>9.0</td>\n",
       "      <td>-2.0</td>\n",
       "    </tr>\n",
       "    <tr>\n",
       "      <th>...</th>\n",
       "      <td>...</td>\n",
       "      <td>...</td>\n",
       "      <td>...</td>\n",
       "      <td>...</td>\n",
       "    </tr>\n",
       "    <tr>\n",
       "      <th>3912</th>\n",
       "      <td>1</td>\n",
       "      <td>12</td>\n",
       "      <td>8.0</td>\n",
       "      <td>-3.0</td>\n",
       "    </tr>\n",
       "    <tr>\n",
       "      <th>3919</th>\n",
       "      <td>1</td>\n",
       "      <td>12</td>\n",
       "      <td>6.0</td>\n",
       "      <td>-5.0</td>\n",
       "    </tr>\n",
       "    <tr>\n",
       "      <th>3952</th>\n",
       "      <td>3</td>\n",
       "      <td>12</td>\n",
       "      <td>6.0</td>\n",
       "      <td>-3.0</td>\n",
       "    </tr>\n",
       "    <tr>\n",
       "      <th>3972</th>\n",
       "      <td>3</td>\n",
       "      <td>12</td>\n",
       "      <td>8.0</td>\n",
       "      <td>-1.0</td>\n",
       "    </tr>\n",
       "    <tr>\n",
       "      <th>3985</th>\n",
       "      <td>2</td>\n",
       "      <td>12</td>\n",
       "      <td>9.0</td>\n",
       "      <td>-1.0</td>\n",
       "    </tr>\n",
       "  </tbody>\n",
       "</table>\n",
       "<p>137 rows × 4 columns</p>\n",
       "</div>"
      ],
      "text/plain": [
       "      Lifetime  Contract_period  Month_to_end_contract  gap\n",
       "71           0               12                   11.0 -1.0\n",
       "72           0                6                    5.0 -1.0\n",
       "94           0                6                    5.0 -1.0\n",
       "95           0                6                    5.0 -1.0\n",
       "107          1               12                    9.0 -2.0\n",
       "...        ...              ...                    ...  ...\n",
       "3912         1               12                    8.0 -3.0\n",
       "3919         1               12                    6.0 -5.0\n",
       "3952         3               12                    6.0 -3.0\n",
       "3972         3               12                    8.0 -1.0\n",
       "3985         2               12                    9.0 -1.0\n",
       "\n",
       "[137 rows x 4 columns]"
      ]
     },
     "execution_count": 8,
     "metadata": {},
     "output_type": "execute_result"
    }
   ],
   "source": [
    "df_chekup.query('gap < 0')"
   ]
  },
  {
   "cell_type": "markdown",
   "id": "200eea48",
   "metadata": {},
   "source": [
    "Всё-таки есть ошибки! 3,4% данных содержат ошибочный Lifetime - он не может быть меньше, чем количество месяцев, прошедших по контракту.\n",
    "\n",
    "Тут есть три пути:\n",
    "1. удалить столбец Lifetime - ошибок немного, удалять черезчур жестоко. НО большинство клиентов у нас новые (средний Lifetime - меньше 4 месяцев), поэтому этот признак мне не кажется информативным в целом.\n",
    "2. удалить те записи, в которых выявлена ошибка - НО жааалко\n",
    "3. заменить ошибочные данные на расчетные - тоже нормальный вариант в данном случае\n",
    "\n",
    "Далее я сделаю обучение и расчет метрик на полном датасете и на датасете без Lifetime для сравнения."
   ]
  },
  {
   "cell_type": "markdown",
   "id": "d4250aea",
   "metadata": {},
   "source": [
    "## Cредние значения признаков в двух группах "
   ]
  },
  {
   "cell_type": "markdown",
   "id": "801fc172",
   "metadata": {},
   "source": [
    "Посмотрите на средние значения признаков в двух группах — тех, кто ушел в отток и тех, кто остался (воспользуйтесь методом groupby());"
   ]
  },
  {
   "cell_type": "code",
   "execution_count": 9,
   "id": "07956015",
   "metadata": {},
   "outputs": [
    {
     "data": {
      "text/html": [
       "<div>\n",
       "<style scoped>\n",
       "    .dataframe tbody tr th:only-of-type {\n",
       "        vertical-align: middle;\n",
       "    }\n",
       "\n",
       "    .dataframe tbody tr th {\n",
       "        vertical-align: top;\n",
       "    }\n",
       "\n",
       "    .dataframe thead th {\n",
       "        text-align: right;\n",
       "    }\n",
       "</style>\n",
       "<table border=\"1\" class=\"dataframe\">\n",
       "  <thead>\n",
       "    <tr style=\"text-align: right;\">\n",
       "      <th>Churn</th>\n",
       "      <th>0</th>\n",
       "      <th>1</th>\n",
       "      <th>ratio</th>\n",
       "    </tr>\n",
       "  </thead>\n",
       "  <tbody>\n",
       "    <tr>\n",
       "      <th>gender</th>\n",
       "      <td>0.510037</td>\n",
       "      <td>0.510839</td>\n",
       "      <td>1.001571</td>\n",
       "    </tr>\n",
       "    <tr>\n",
       "      <th>Near_Location</th>\n",
       "      <td>0.873086</td>\n",
       "      <td>0.768143</td>\n",
       "      <td>0.879802</td>\n",
       "    </tr>\n",
       "    <tr>\n",
       "      <th>Partner</th>\n",
       "      <td>0.534195</td>\n",
       "      <td>0.355325</td>\n",
       "      <td>0.665160</td>\n",
       "    </tr>\n",
       "    <tr>\n",
       "      <th>Promo_friends</th>\n",
       "      <td>0.353522</td>\n",
       "      <td>0.183789</td>\n",
       "      <td>0.519880</td>\n",
       "    </tr>\n",
       "    <tr>\n",
       "      <th>Phone</th>\n",
       "      <td>0.903709</td>\n",
       "      <td>0.902922</td>\n",
       "      <td>0.999129</td>\n",
       "    </tr>\n",
       "    <tr>\n",
       "      <th>Contract_period</th>\n",
       "      <td>5.747193</td>\n",
       "      <td>1.728558</td>\n",
       "      <td>0.300766</td>\n",
       "    </tr>\n",
       "    <tr>\n",
       "      <th>Group_visits</th>\n",
       "      <td>0.464103</td>\n",
       "      <td>0.268615</td>\n",
       "      <td>0.578782</td>\n",
       "    </tr>\n",
       "    <tr>\n",
       "      <th>Age</th>\n",
       "      <td>29.976523</td>\n",
       "      <td>26.989632</td>\n",
       "      <td>0.900359</td>\n",
       "    </tr>\n",
       "    <tr>\n",
       "      <th>Avg_additional_charges_total</th>\n",
       "      <td>158.445715</td>\n",
       "      <td>115.082899</td>\n",
       "      <td>0.726324</td>\n",
       "    </tr>\n",
       "    <tr>\n",
       "      <th>Month_to_end_contract</th>\n",
       "      <td>5.283089</td>\n",
       "      <td>1.662582</td>\n",
       "      <td>0.314699</td>\n",
       "    </tr>\n",
       "    <tr>\n",
       "      <th>Lifetime</th>\n",
       "      <td>4.711807</td>\n",
       "      <td>0.990575</td>\n",
       "      <td>0.210233</td>\n",
       "    </tr>\n",
       "    <tr>\n",
       "      <th>Avg_class_frequency_total</th>\n",
       "      <td>2.024876</td>\n",
       "      <td>1.474995</td>\n",
       "      <td>0.728437</td>\n",
       "    </tr>\n",
       "    <tr>\n",
       "      <th>Avg_class_frequency_current_month</th>\n",
       "      <td>2.027882</td>\n",
       "      <td>1.044546</td>\n",
       "      <td>0.515092</td>\n",
       "    </tr>\n",
       "  </tbody>\n",
       "</table>\n",
       "</div>"
      ],
      "text/plain": [
       "Churn                                       0           1     ratio\n",
       "gender                               0.510037    0.510839  1.001571\n",
       "Near_Location                        0.873086    0.768143  0.879802\n",
       "Partner                              0.534195    0.355325  0.665160\n",
       "Promo_friends                        0.353522    0.183789  0.519880\n",
       "Phone                                0.903709    0.902922  0.999129\n",
       "Contract_period                      5.747193    1.728558  0.300766\n",
       "Group_visits                         0.464103    0.268615  0.578782\n",
       "Age                                 29.976523   26.989632  0.900359\n",
       "Avg_additional_charges_total       158.445715  115.082899  0.726324\n",
       "Month_to_end_contract                5.283089    1.662582  0.314699\n",
       "Lifetime                             4.711807    0.990575  0.210233\n",
       "Avg_class_frequency_total            2.024876    1.474995  0.728437\n",
       "Avg_class_frequency_current_month    2.027882    1.044546  0.515092"
      ]
     },
     "execution_count": 9,
     "metadata": {},
     "output_type": "execute_result"
    }
   ],
   "source": [
    "df_mean = df.groupby('Churn').mean().T\n",
    "df_mean['ratio'] = df_mean[1] / df_mean[0]\n",
    "df_mean"
   ]
  },
  {
   "cell_type": "markdown",
   "id": "d623fcbe",
   "metadata": {},
   "source": [
    "Предполагаю, что 1 - это те, кто ушли. У части признаков средние значения близки в обеих группах, но есть и заметные различия.\n",
    "Схожие признаки:\n",
    "- соотношение полов;\n",
    "- наличие номера телефона;\n",
    "\n",
    "Признаки с небольшим отличием (10-12%):\n",
    "- близость к дому/работе;\n",
    "- возраст;\n",
    "\n",
    "Остальные признаки различются более заметно."
   ]
  },
  {
   "cell_type": "markdown",
   "id": "bf496f20",
   "metadata": {},
   "source": [
    "## Гистограммы"
   ]
  },
  {
   "cell_type": "markdown",
   "id": "6d0aea51",
   "metadata": {},
   "source": [
    "### Отток"
   ]
  },
  {
   "cell_type": "markdown",
   "id": "4ff491ce",
   "metadata": {},
   "source": [
    "Постройте столбчатые гистограммы и распределения признаков для тех, кто ушёл (отток) и тех, кто остался (не попали в отток)."
   ]
  },
  {
   "cell_type": "code",
   "execution_count": 10,
   "id": "1a0d762a",
   "metadata": {},
   "outputs": [
    {
     "data": {
      "image/png": "[encoded data removed]",
      "text/plain": [
       "<Figure size 432x288 with 1 Axes>"
      ]
     },
     "metadata": {
      "needs_background": "light"
     },
     "output_type": "display_data"
    },
    {
     "data": {
      "image/png": "[encoded data removed]",
      "text/plain": [
       "<Figure size 432x288 with 1 Axes>"
      ]
     },
     "metadata": {
      "needs_background": "light"
     },
     "output_type": "display_data"
    },
    {
     "data": {
      "image/png": "[encoded data removed]",
      "text/plain": [
       "<Figure size 432x288 with 1 Axes>"
      ]
     },
     "metadata": {
      "needs_background": "light"
     },
     "output_type": "display_data"
    },
    {
     "data": {
      "image/png": "[encoded data removed]",
      "text/plain": [
       "<Figure size 432x288 with 1 Axes>"
      ]
     },
     "metadata": {
      "needs_background": "light"
     },
     "output_type": "display_data"
    },
    {
     "data": {
      "image/png": "[encoded data removed]",
      "text/plain": [
       "<Figure size 432x288 with 1 Axes>"
      ]
     },
     "metadata": {
      "needs_background": "light"
     },
     "output_type": "display_data"
    },
    {
     "data": {
      "image/png": "[encoded data removed]",
      "text/plain": [
       "<Figure size 432x288 with 1 Axes>"
      ]
     },
     "metadata": {
      "needs_background": "light"
     },
     "output_type": "display_data"
    },
    {
     "data": {
      "image/png": "[encoded data removed]",
      "text/plain": [
       "<Figure size 432x288 with 1 Axes>"
      ]
     },
     "metadata": {
      "needs_background": "light"
     },
     "output_type": "display_data"
    },
    {
     "data": {
      "image/png": "[encoded data removed]",
      "text/plain": [
       "<Figure size 432x288 with 1 Axes>"
      ]
     },
     "metadata": {
      "needs_background": "light"
     },
     "output_type": "display_data"
    },
    {
     "data": {
      "image/png": "[encoded data removed]",
      "text/plain": [
       "<Figure size 432x288 with 1 Axes>"
      ]
     },
     "metadata": {
      "needs_background": "light"
     },
     "output_type": "display_data"
    },
    {
     "data": {
      "image/png": "[encoded data removed]",
      "text/plain": [
       "<Figure size 432x288 with 1 Axes>"
      ]
     },
     "metadata": {
      "needs_background": "light"
     },
     "output_type": "display_data"
    },
    {
     "data": {
      "image/png": "[encoded data removed]",
      "text/plain": [
       "<Figure size 432x288 with 1 Axes>"
      ]
     },
     "metadata": {
      "needs_background": "light"
     },
     "output_type": "display_data"
    },
    {
     "data": {
      "image/png": "[encoded data removed]",
      "text/plain": [
       "<Figure size 432x288 with 1 Axes>"
      ]
     },
     "metadata": {
      "needs_background": "light"
     },
     "output_type": "display_data"
    },
    {
     "data": {
      "image/png": "[encoded data removed]",
      "text/plain": [
       "<Figure size 432x288 with 1 Axes>"
      ]
     },
     "metadata": {
      "needs_background": "light"
     },
     "output_type": "display_data"
    },
    {
     "data": {
      "image/png": "[encoded data removed]",
      "text/plain": [
       "<Figure size 432x288 with 1 Axes>"
      ]
     },
     "metadata": {
      "needs_background": "light"
     },
     "output_type": "display_data"
    }
   ],
   "source": [
    "import warnings\n",
    "\n",
    "warnings.simplefilter('ignore')\n",
    "\n",
    "plt.title('Гистограммы признаков для оттока и тех, кто остался.')\n",
    "for feature in df.columns:\n",
    "    sns.distplot(df.query('Churn == 0')[feature], bins=10)\n",
    "    sns.distplot(df.query('Churn == 1')[feature], bins=10)\n",
    "    plt.show() "
   ]
  },
  {
   "cell_type": "markdown",
   "id": "9966118b",
   "metadata": {},
   "source": [
    "В некоторых признаках заметна разница распределений. Например, \"Near_Location\", \"Partner\", \"Promo_friends\", \"Contract_Period\", \"Month_to_end_contract\"."
   ]
  },
  {
   "cell_type": "markdown",
   "id": "93971bd6",
   "metadata": {},
   "source": [
    "## Матрица корреляций"
   ]
  },
  {
   "cell_type": "markdown",
   "id": "839ee401",
   "metadata": {},
   "source": [
    "Постройте матрицу корреляций и отобразите её."
   ]
  },
  {
   "cell_type": "code",
   "execution_count": 11,
   "id": "bf35d0c1",
   "metadata": {},
   "outputs": [
    {
     "data": {
      "text/html": [
       "<div>\n",
       "<style scoped>\n",
       "    .dataframe tbody tr th:only-of-type {\n",
       "        vertical-align: middle;\n",
       "    }\n",
       "\n",
       "    .dataframe tbody tr th {\n",
       "        vertical-align: top;\n",
       "    }\n",
       "\n",
       "    .dataframe thead th {\n",
       "        text-align: right;\n",
       "    }\n",
       "</style>\n",
       "<table border=\"1\" class=\"dataframe\">\n",
       "  <thead>\n",
       "    <tr style=\"text-align: right;\">\n",
       "      <th></th>\n",
       "      <th>gender</th>\n",
       "      <th>Near_Location</th>\n",
       "      <th>Partner</th>\n",
       "      <th>Promo_friends</th>\n",
       "      <th>Phone</th>\n",
       "      <th>Contract_period</th>\n",
       "      <th>Group_visits</th>\n",
       "      <th>Age</th>\n",
       "      <th>Avg_additional_charges_total</th>\n",
       "      <th>Month_to_end_contract</th>\n",
       "      <th>Lifetime</th>\n",
       "      <th>Avg_class_frequency_total</th>\n",
       "      <th>Avg_class_frequency_current_month</th>\n",
       "      <th>Churn</th>\n",
       "    </tr>\n",
       "  </thead>\n",
       "  <tbody>\n",
       "    <tr>\n",
       "      <th>gender</th>\n",
       "      <td>1.000000</td>\n",
       "      <td>0.006699</td>\n",
       "      <td>-0.010463</td>\n",
       "      <td>-0.005033</td>\n",
       "      <td>-0.008542</td>\n",
       "      <td>0.000502</td>\n",
       "      <td>0.017879</td>\n",
       "      <td>0.013807</td>\n",
       "      <td>-0.009334</td>\n",
       "      <td>-0.001281</td>\n",
       "      <td>0.013579</td>\n",
       "      <td>0.014620</td>\n",
       "      <td>0.009156</td>\n",
       "      <td>0.000708</td>\n",
       "    </tr>\n",
       "    <tr>\n",
       "      <th>Near_Location</th>\n",
       "      <td>0.006699</td>\n",
       "      <td>1.000000</td>\n",
       "      <td>-0.005119</td>\n",
       "      <td>0.210964</td>\n",
       "      <td>-0.015763</td>\n",
       "      <td>0.150233</td>\n",
       "      <td>0.154728</td>\n",
       "      <td>0.058358</td>\n",
       "      <td>0.040761</td>\n",
       "      <td>0.143961</td>\n",
       "      <td>0.070921</td>\n",
       "      <td>0.043127</td>\n",
       "      <td>0.062664</td>\n",
       "      <td>-0.128098</td>\n",
       "    </tr>\n",
       "    <tr>\n",
       "      <th>Partner</th>\n",
       "      <td>-0.010463</td>\n",
       "      <td>-0.005119</td>\n",
       "      <td>1.000000</td>\n",
       "      <td>0.451960</td>\n",
       "      <td>0.009970</td>\n",
       "      <td>0.306166</td>\n",
       "      <td>0.022710</td>\n",
       "      <td>0.047480</td>\n",
       "      <td>0.022941</td>\n",
       "      <td>0.294632</td>\n",
       "      <td>0.061229</td>\n",
       "      <td>0.024938</td>\n",
       "      <td>0.045561</td>\n",
       "      <td>-0.157986</td>\n",
       "    </tr>\n",
       "    <tr>\n",
       "      <th>Promo_friends</th>\n",
       "      <td>-0.005033</td>\n",
       "      <td>0.210964</td>\n",
       "      <td>0.451960</td>\n",
       "      <td>1.000000</td>\n",
       "      <td>0.001982</td>\n",
       "      <td>0.244552</td>\n",
       "      <td>0.120170</td>\n",
       "      <td>0.050113</td>\n",
       "      <td>0.036898</td>\n",
       "      <td>0.239553</td>\n",
       "      <td>0.072721</td>\n",
       "      <td>0.028063</td>\n",
       "      <td>0.053768</td>\n",
       "      <td>-0.162233</td>\n",
       "    </tr>\n",
       "    <tr>\n",
       "      <th>Phone</th>\n",
       "      <td>-0.008542</td>\n",
       "      <td>-0.015763</td>\n",
       "      <td>0.009970</td>\n",
       "      <td>0.001982</td>\n",
       "      <td>1.000000</td>\n",
       "      <td>-0.006893</td>\n",
       "      <td>-0.010099</td>\n",
       "      <td>-0.011403</td>\n",
       "      <td>0.009279</td>\n",
       "      <td>-0.011196</td>\n",
       "      <td>-0.018801</td>\n",
       "      <td>0.008340</td>\n",
       "      <td>0.013375</td>\n",
       "      <td>-0.001177</td>\n",
       "    </tr>\n",
       "    <tr>\n",
       "      <th>Contract_period</th>\n",
       "      <td>0.000502</td>\n",
       "      <td>0.150233</td>\n",
       "      <td>0.306166</td>\n",
       "      <td>0.244552</td>\n",
       "      <td>-0.006893</td>\n",
       "      <td>1.000000</td>\n",
       "      <td>0.169991</td>\n",
       "      <td>0.138249</td>\n",
       "      <td>0.111445</td>\n",
       "      <td>0.973064</td>\n",
       "      <td>0.170725</td>\n",
       "      <td>0.096211</td>\n",
       "      <td>0.159407</td>\n",
       "      <td>-0.389984</td>\n",
       "    </tr>\n",
       "    <tr>\n",
       "      <th>Group_visits</th>\n",
       "      <td>0.017879</td>\n",
       "      <td>0.154728</td>\n",
       "      <td>0.022710</td>\n",
       "      <td>0.120170</td>\n",
       "      <td>-0.010099</td>\n",
       "      <td>0.169991</td>\n",
       "      <td>1.000000</td>\n",
       "      <td>0.080934</td>\n",
       "      <td>0.032079</td>\n",
       "      <td>0.163703</td>\n",
       "      <td>0.075853</td>\n",
       "      <td>0.056695</td>\n",
       "      <td>0.075923</td>\n",
       "      <td>-0.175325</td>\n",
       "    </tr>\n",
       "    <tr>\n",
       "      <th>Age</th>\n",
       "      <td>0.013807</td>\n",
       "      <td>0.058358</td>\n",
       "      <td>0.047480</td>\n",
       "      <td>0.050113</td>\n",
       "      <td>-0.011403</td>\n",
       "      <td>0.138249</td>\n",
       "      <td>0.080934</td>\n",
       "      <td>1.000000</td>\n",
       "      <td>0.080240</td>\n",
       "      <td>0.134511</td>\n",
       "      <td>0.164693</td>\n",
       "      <td>0.119953</td>\n",
       "      <td>0.183095</td>\n",
       "      <td>-0.404735</td>\n",
       "    </tr>\n",
       "    <tr>\n",
       "      <th>Avg_additional_charges_total</th>\n",
       "      <td>-0.009334</td>\n",
       "      <td>0.040761</td>\n",
       "      <td>0.022941</td>\n",
       "      <td>0.036898</td>\n",
       "      <td>0.009279</td>\n",
       "      <td>0.111445</td>\n",
       "      <td>0.032079</td>\n",
       "      <td>0.080240</td>\n",
       "      <td>1.000000</td>\n",
       "      <td>0.113958</td>\n",
       "      <td>0.079028</td>\n",
       "      <td>0.044426</td>\n",
       "      <td>0.079570</td>\n",
       "      <td>-0.198697</td>\n",
       "    </tr>\n",
       "    <tr>\n",
       "      <th>Month_to_end_contract</th>\n",
       "      <td>-0.001281</td>\n",
       "      <td>0.143961</td>\n",
       "      <td>0.294632</td>\n",
       "      <td>0.239553</td>\n",
       "      <td>-0.011196</td>\n",
       "      <td>0.973064</td>\n",
       "      <td>0.163703</td>\n",
       "      <td>0.134511</td>\n",
       "      <td>0.113958</td>\n",
       "      <td>1.000000</td>\n",
       "      <td>0.161078</td>\n",
       "      <td>0.085387</td>\n",
       "      <td>0.147605</td>\n",
       "      <td>-0.381393</td>\n",
       "    </tr>\n",
       "    <tr>\n",
       "      <th>Lifetime</th>\n",
       "      <td>0.013579</td>\n",
       "      <td>0.070921</td>\n",
       "      <td>0.061229</td>\n",
       "      <td>0.072721</td>\n",
       "      <td>-0.018801</td>\n",
       "      <td>0.170725</td>\n",
       "      <td>0.075853</td>\n",
       "      <td>0.164693</td>\n",
       "      <td>0.079028</td>\n",
       "      <td>0.161078</td>\n",
       "      <td>1.000000</td>\n",
       "      <td>0.112338</td>\n",
       "      <td>0.181975</td>\n",
       "      <td>-0.438220</td>\n",
       "    </tr>\n",
       "    <tr>\n",
       "      <th>Avg_class_frequency_total</th>\n",
       "      <td>0.014620</td>\n",
       "      <td>0.043127</td>\n",
       "      <td>0.024938</td>\n",
       "      <td>0.028063</td>\n",
       "      <td>0.008340</td>\n",
       "      <td>0.096211</td>\n",
       "      <td>0.056695</td>\n",
       "      <td>0.119953</td>\n",
       "      <td>0.044426</td>\n",
       "      <td>0.085387</td>\n",
       "      <td>0.112338</td>\n",
       "      <td>1.000000</td>\n",
       "      <td>0.952739</td>\n",
       "      <td>-0.249715</td>\n",
       "    </tr>\n",
       "    <tr>\n",
       "      <th>Avg_class_frequency_current_month</th>\n",
       "      <td>0.009156</td>\n",
       "      <td>0.062664</td>\n",
       "      <td>0.045561</td>\n",
       "      <td>0.053768</td>\n",
       "      <td>0.013375</td>\n",
       "      <td>0.159407</td>\n",
       "      <td>0.075923</td>\n",
       "      <td>0.183095</td>\n",
       "      <td>0.079570</td>\n",
       "      <td>0.147605</td>\n",
       "      <td>0.181975</td>\n",
       "      <td>0.952739</td>\n",
       "      <td>1.000000</td>\n",
       "      <td>-0.412348</td>\n",
       "    </tr>\n",
       "    <tr>\n",
       "      <th>Churn</th>\n",
       "      <td>0.000708</td>\n",
       "      <td>-0.128098</td>\n",
       "      <td>-0.157986</td>\n",
       "      <td>-0.162233</td>\n",
       "      <td>-0.001177</td>\n",
       "      <td>-0.389984</td>\n",
       "      <td>-0.175325</td>\n",
       "      <td>-0.404735</td>\n",
       "      <td>-0.198697</td>\n",
       "      <td>-0.381393</td>\n",
       "      <td>-0.438220</td>\n",
       "      <td>-0.249715</td>\n",
       "      <td>-0.412348</td>\n",
       "      <td>1.000000</td>\n",
       "    </tr>\n",
       "  </tbody>\n",
       "</table>\n",
       "</div>"
      ],
      "text/plain": [
       "                                     gender  Near_Location   Partner  \\\n",
       "gender                             1.000000       0.006699 -0.010463   \n",
       "Near_Location                      0.006699       1.000000 -0.005119   \n",
       "Partner                           -0.010463      -0.005119  1.000000   \n",
       "Promo_friends                     -0.005033       0.210964  0.451960   \n",
       "Phone                             -0.008542      -0.015763  0.009970   \n",
       "Contract_period                    0.000502       0.150233  0.306166   \n",
       "Group_visits                       0.017879       0.154728  0.022710   \n",
       "Age                                0.013807       0.058358  0.047480   \n",
       "Avg_additional_charges_total      -0.009334       0.040761  0.022941   \n",
       "Month_to_end_contract             -0.001281       0.143961  0.294632   \n",
       "Lifetime                           0.013579       0.070921  0.061229   \n",
       "Avg_class_frequency_total          0.014620       0.043127  0.024938   \n",
       "Avg_class_frequency_current_month  0.009156       0.062664  0.045561   \n",
       "Churn                              0.000708      -0.128098 -0.157986   \n",
       "\n",
       "                                   Promo_friends     Phone  Contract_period  \\\n",
       "gender                                 -0.005033 -0.008542         0.000502   \n",
       "Near_Location                           0.210964 -0.015763         0.150233   \n",
       "Partner                                 0.451960  0.009970         0.306166   \n",
       "Promo_friends                           1.000000  0.001982         0.244552   \n",
       "Phone                                   0.001982  1.000000        -0.006893   \n",
       "Contract_period                         0.244552 -0.006893         1.000000   \n",
       "Group_visits                            0.120170 -0.010099         0.169991   \n",
       "Age                                     0.050113 -0.011403         0.138249   \n",
       "Avg_additional_charges_total            0.036898  0.009279         0.111445   \n",
       "Month_to_end_contract                   0.239553 -0.011196         0.973064   \n",
       "Lifetime                                0.072721 -0.018801         0.170725   \n",
       "Avg_class_frequency_total               0.028063  0.008340         0.096211   \n",
       "Avg_class_frequency_current_month       0.053768  0.013375         0.159407   \n",
       "Churn                                  -0.162233 -0.001177        -0.389984   \n",
       "\n",
       "                                   Group_visits       Age  \\\n",
       "gender                                 0.017879  0.013807   \n",
       "Near_Location                          0.154728  0.058358   \n",
       "Partner                                0.022710  0.047480   \n",
       "Promo_friends                          0.120170  0.050113   \n",
       "Phone                                 -0.010099 -0.011403   \n",
       "Contract_period                        0.169991  0.138249   \n",
       "Group_visits                           1.000000  0.080934   \n",
       "Age                                    0.080934  1.000000   \n",
       "Avg_additional_charges_total           0.032079  0.080240   \n",
       "Month_to_end_contract                  0.163703  0.134511   \n",
       "Lifetime                               0.075853  0.164693   \n",
       "Avg_class_frequency_total              0.056695  0.119953   \n",
       "Avg_class_frequency_current_month      0.075923  0.183095   \n",
       "Churn                                 -0.175325 -0.404735   \n",
       "\n",
       "                                   Avg_additional_charges_total  \\\n",
       "gender                                                -0.009334   \n",
       "Near_Location                                          0.040761   \n",
       "Partner                                                0.022941   \n",
       "Promo_friends                                          0.036898   \n",
       "Phone                                                  0.009279   \n",
       "Contract_period                                        0.111445   \n",
       "Group_visits                                           0.032079   \n",
       "Age                                                    0.080240   \n",
       "Avg_additional_charges_total                           1.000000   \n",
       "Month_to_end_contract                                  0.113958   \n",
       "Lifetime                                               0.079028   \n",
       "Avg_class_frequency_total                              0.044426   \n",
       "Avg_class_frequency_current_month                      0.079570   \n",
       "Churn                                                 -0.198697   \n",
       "\n",
       "                                   Month_to_end_contract  Lifetime  \\\n",
       "gender                                         -0.001281  0.013579   \n",
       "Near_Location                                   0.143961  0.070921   \n",
       "Partner                                         0.294632  0.061229   \n",
       "Promo_friends                                   0.239553  0.072721   \n",
       "Phone                                          -0.011196 -0.018801   \n",
       "Contract_period                                 0.973064  0.170725   \n",
       "Group_visits                                    0.163703  0.075853   \n",
       "Age                                             0.134511  0.164693   \n",
       "Avg_additional_charges_total                    0.113958  0.079028   \n",
       "Month_to_end_contract                           1.000000  0.161078   \n",
       "Lifetime                                        0.161078  1.000000   \n",
       "Avg_class_frequency_total                       0.085387  0.112338   \n",
       "Avg_class_frequency_current_month               0.147605  0.181975   \n",
       "Churn                                          -0.381393 -0.438220   \n",
       "\n",
       "                                   Avg_class_frequency_total  \\\n",
       "gender                                              0.014620   \n",
       "Near_Location                                       0.043127   \n",
       "Partner                                             0.024938   \n",
       "Promo_friends                                       0.028063   \n",
       "Phone                                               0.008340   \n",
       "Contract_period                                     0.096211   \n",
       "Group_visits                                        0.056695   \n",
       "Age                                                 0.119953   \n",
       "Avg_additional_charges_total                        0.044426   \n",
       "Month_to_end_contract                               0.085387   \n",
       "Lifetime                                            0.112338   \n",
       "Avg_class_frequency_total                           1.000000   \n",
       "Avg_class_frequency_current_month                   0.952739   \n",
       "Churn                                              -0.249715   \n",
       "\n",
       "                                   Avg_class_frequency_current_month     Churn  \n",
       "gender                                                      0.009156  0.000708  \n",
       "Near_Location                                               0.062664 -0.128098  \n",
       "Partner                                                     0.045561 -0.157986  \n",
       "Promo_friends                                               0.053768 -0.162233  \n",
       "Phone                                                       0.013375 -0.001177  \n",
       "Contract_period                                             0.159407 -0.389984  \n",
       "Group_visits                                                0.075923 -0.175325  \n",
       "Age                                                         0.183095 -0.404735  \n",
       "Avg_additional_charges_total                                0.079570 -0.198697  \n",
       "Month_to_end_contract                                       0.147605 -0.381393  \n",
       "Lifetime                                                    0.181975 -0.438220  \n",
       "Avg_class_frequency_total                                   0.952739 -0.249715  \n",
       "Avg_class_frequency_current_month                           1.000000 -0.412348  \n",
       "Churn                                                      -0.412348  1.000000  "
      ]
     },
     "execution_count": 11,
     "metadata": {},
     "output_type": "execute_result"
    }
   ],
   "source": [
    "df.corr()"
   ]
  },
  {
   "cell_type": "code",
   "execution_count": 12,
   "id": "0f84f1ef",
   "metadata": {},
   "outputs": [
    {
     "data": {
      "image/png": "[encoded data removed]",
      "text/plain": [
       "<Figure size 432x288 with 2 Axes>"
      ]
     },
     "metadata": {
      "needs_background": "light"
     },
     "output_type": "display_data"
    }
   ],
   "source": [
    "sns.heatmap(df.corr());\n",
    "plt.title('Тепловая карты для матрицы корреляций.')\n",
    "plt.show()"
   ]
  },
  {
   "cell_type": "markdown",
   "id": "4392f170",
   "metadata": {},
   "source": [
    "В глаза бросаются две пары коррелирующих признаков: Month_to_end_contract&Contract_period; Avg_class_frequency_total&Avg_class_frequency_current_month.\n",
    "Пока не буду их чистить, так как они не должны повлиять на результат."
   ]
  },
  {
   "cell_type": "markdown",
   "id": "9d2aae2b",
   "metadata": {},
   "source": [
    "# Модель прогнозирования оттока клиентов\n",
    "\n",
    "Постройте модель бинарной классификации клиентов, где целевой признак — факт оттока клиента в следующем месяце:\n",
    "* Разбейте данные на обучающую и валидационную выборку функцией train_test_split().\n",
    "* Обучите модель на train-выборке двумя способами:\n",
    "        * логистической регрессией,\n",
    "        * случайным лесом.\n",
    "\n",
    "Оцените метрики accuracy, precision и recall для обеих моделей на валидационной выборке. Сравните по ним модели. Какая модель показала себя лучше на основании метрик?\n",
    "Не забудьте указать параметр random_state при разделении выборки и задании алгоритма."
   ]
  },
  {
   "cell_type": "markdown",
   "id": "39c9d97a",
   "metadata": {},
   "source": [
    "Разделим данные на признаки и целевую переменную."
   ]
  },
  {
   "cell_type": "code",
   "execution_count": 13,
   "id": "ceda1bc9",
   "metadata": {},
   "outputs": [],
   "source": [
    "from sklearn.model_selection import train_test_split\n",
    "X = df.drop('Churn', axis=1)\n",
    "y = df['Churn']"
   ]
  },
  {
   "cell_type": "markdown",
   "id": "c4b49937",
   "metadata": {},
   "source": [
    "Разделяем модель на обучающую и валидационную выборку"
   ]
  },
  {
   "cell_type": "code",
   "execution_count": 14,
   "id": "fe8f9070",
   "metadata": {},
   "outputs": [],
   "source": [
    "X_train, X_test, y_train, y_test = train_test_split(X, y, test_size=0.2, random_state=0, stratify=y) "
   ]
  },
  {
   "cell_type": "markdown",
   "id": "fb54e120",
   "metadata": {},
   "source": [
    "## Логистическая регрессия"
   ]
  },
  {
   "cell_type": "code",
   "execution_count": 15,
   "id": "aa85aa92",
   "metadata": {},
   "outputs": [],
   "source": [
    "from sklearn.linear_model import LogisticRegression\n",
    "model_LR = LogisticRegression(solver='liblinear', random_state=0)\n",
    "\n",
    "# обучите модель\n",
    "model_LR.fit(X_train,y_train)\n",
    "\n",
    "# воспользуйтесь уже обученной моделью, чтобы сделать прогнозы\n",
    "predictions_LR = model_LR.predict(X_test)\n",
    "probabilities = model_LR.predict_proba(X_test)[:,1]"
   ]
  },
  {
   "cell_type": "code",
   "execution_count": 16,
   "id": "900140a1",
   "metadata": {},
   "outputs": [
    {
     "data": {
      "text/plain": [
       "0.9772012578616351"
      ]
     },
     "execution_count": 16,
     "metadata": {},
     "output_type": "execute_result"
    }
   ],
   "source": [
    "from sklearn.metrics import roc_auc_score\n",
    "roc_auc_1 = roc_auc_score(y_test, probabilities) \n",
    "roc_auc_1"
   ]
  },
  {
   "cell_type": "markdown",
   "id": "113c773d",
   "metadata": {},
   "source": [
    "## Random Forest"
   ]
  },
  {
   "cell_type": "code",
   "execution_count": 17,
   "id": "7998e67e",
   "metadata": {},
   "outputs": [],
   "source": [
    "from sklearn.ensemble import RandomForestClassifier\n",
    "model_RF = RandomForestClassifier(n_estimators = 100,random_state=0)"
   ]
  },
  {
   "cell_type": "code",
   "execution_count": 18,
   "id": "0cfe3ada",
   "metadata": {},
   "outputs": [
    {
     "data": {
      "text/plain": [
       "RandomForestClassifier(random_state=0)"
      ]
     },
     "execution_count": 18,
     "metadata": {},
     "output_type": "execute_result"
    }
   ],
   "source": [
    "# обучите модель\n",
    "model_RF.fit(X_train,y_train)"
   ]
  },
  {
   "cell_type": "code",
   "execution_count": 19,
   "id": "698e4168",
   "metadata": {},
   "outputs": [],
   "source": [
    "# воспользуйтесь уже обученной моделью, чтобы сделать прогнозы\n",
    "predictions_RF = model_RF.predict(X_test)"
   ]
  },
  {
   "cell_type": "markdown",
   "id": "ceb8558e",
   "metadata": {},
   "source": [
    "## Метрики accuracy, precision и recall "
   ]
  },
  {
   "cell_type": "code",
   "execution_count": 20,
   "id": "7dc592b7",
   "metadata": {},
   "outputs": [],
   "source": [
    "from sklearn.metrics import accuracy_score, precision_score, recall_score, f1_score"
   ]
  },
  {
   "cell_type": "code",
   "execution_count": 21,
   "id": "25153d4f",
   "metadata": {},
   "outputs": [],
   "source": [
    "def metrics_printer(y_test, predictions):\n",
    "    metrics = ('Accuracy:{:.2f}, Precision:{:.2f}, Recall:{:.2f}, F1:{:.2f}'.format(\n",
    "            accuracy_score(y_test, predictions),\n",
    "            precision_score(y_test, predictions),\n",
    "            recall_score(y_test, predictions),\n",
    "            f1_score(y_test, predictions) \n",
    "            )\n",
    "    ) \n",
    "    return metrics"
   ]
  },
  {
   "cell_type": "code",
   "execution_count": 22,
   "id": "193d881b",
   "metadata": {},
   "outputs": [],
   "source": [
    "#метрики для модели, обученной логистической регрессии\n",
    "LR_Full_dataset = metrics_printer(y_test, predictions_LR)"
   ]
  },
  {
   "cell_type": "code",
   "execution_count": 23,
   "id": "12aacbd1",
   "metadata": {},
   "outputs": [
    {
     "data": {
      "text/plain": [
       "'Accuracy:0.93, Precision:0.89, Recall:0.84, F1:0.87'"
      ]
     },
     "execution_count": 23,
     "metadata": {},
     "output_type": "execute_result"
    }
   ],
   "source": [
    "LR_Full_dataset"
   ]
  },
  {
   "cell_type": "code",
   "execution_count": 24,
   "id": "5a4af750",
   "metadata": {},
   "outputs": [
    {
     "data": {
      "text/plain": [
       "'Accuracy:0.92, Precision:0.88, Recall:0.83, F1:0.85'"
      ]
     },
     "execution_count": 24,
     "metadata": {},
     "output_type": "execute_result"
    }
   ],
   "source": [
    "#метрики для модели, обученной случайным лесом\n",
    "RF_Full_dataset = metrics_printer(y_test, predictions_RF)\n",
    "RF_Full_dataset"
   ]
  },
  {
   "cell_type": "markdown",
   "id": "9598f7de",
   "metadata": {},
   "source": [
    "Метрики лучше для модели,обученной алгоритмом логистической регресии."
   ]
  },
  {
   "cell_type": "markdown",
   "id": "a71f54e8",
   "metadata": {},
   "source": [
    "## удаляем мультиколлинеарность\n",
    "\n",
    "удаляю столбцы,у которых имеются пары с высокой корреляцией (95-97%), так как наличие таких пар может повредить обучению моделей.\n",
    "\n",
    "Таких пар у нас две:\n",
    "Month_to_end_contract и Contract_period; \n",
    "Avg_class_frequency_total и Avg_class_frequency_current_month.\n",
    "\n",
    "Удаляю из них по одному столбцу и заново обучаю модели."
   ]
  },
  {
   "cell_type": "code",
   "execution_count": 25,
   "id": "be32ec1e",
   "metadata": {},
   "outputs": [],
   "source": [
    "df_1 = df.drop(['Contract_period', 'Avg_class_frequency_total'], axis=1)"
   ]
  },
  {
   "cell_type": "code",
   "execution_count": 26,
   "id": "9ad7b89f",
   "metadata": {},
   "outputs": [],
   "source": [
    "X = df_1.drop('Churn', axis=1)\n",
    "y = df_1['Churn']"
   ]
  },
  {
   "cell_type": "markdown",
   "id": "b276f864",
   "metadata": {},
   "source": [
    "Разделяем модель на обучающую и валидационную выборку"
   ]
  },
  {
   "cell_type": "code",
   "execution_count": 27,
   "id": "740ac2c5",
   "metadata": {},
   "outputs": [],
   "source": [
    "X_train, X_test, y_train, y_test = train_test_split(X, y, test_size=0.2, random_state=0, stratify=y) "
   ]
  },
  {
   "cell_type": "markdown",
   "id": "311d0443",
   "metadata": {},
   "source": [
    "## Логистическая регрессия - 2"
   ]
  },
  {
   "cell_type": "code",
   "execution_count": 28,
   "id": "a4cb32e7",
   "metadata": {},
   "outputs": [],
   "source": [
    "model_LR = LogisticRegression(solver='liblinear', random_state=0)\n",
    "\n",
    "# обучите модель\n",
    "model_LR.fit(X_train,y_train)\n",
    "\n",
    "# воспользуйтесь уже обученной моделью, чтобы сделать прогнозы\n",
    "predictions_LR = model_LR.predict(X_test)\n",
    "probabilities = model_LR.predict_proba(X_test)[:,1]"
   ]
  },
  {
   "cell_type": "code",
   "execution_count": 29,
   "id": "f742c0bd",
   "metadata": {},
   "outputs": [
    {
     "data": {
      "text/plain": [
       "0.9653285842638942"
      ]
     },
     "execution_count": 29,
     "metadata": {},
     "output_type": "execute_result"
    }
   ],
   "source": [
    "from sklearn.metrics import roc_auc_score\n",
    "roc_auc_2 = roc_auc_score(y_test, probabilities) \n",
    "roc_auc_2"
   ]
  },
  {
   "cell_type": "markdown",
   "id": "aea2aeb0",
   "metadata": {},
   "source": [
    "## Random Forest - 2"
   ]
  },
  {
   "cell_type": "code",
   "execution_count": 30,
   "id": "f71a168f",
   "metadata": {},
   "outputs": [],
   "source": [
    "model_RF = RandomForestClassifier(n_estimators = 100, random_state=0)\n",
    "\n",
    "# обучите модель\n",
    "model_RF.fit(X_train,y_train)\n",
    "\n",
    "# воспользуйтесь уже обученной моделью, чтобы сделать прогнозы\n",
    "predictions_RF = model_RF.predict(X_test)"
   ]
  },
  {
   "cell_type": "markdown",
   "id": "089153b6",
   "metadata": {},
   "source": [
    "## Метрики accuracy, precision и recall - 2"
   ]
  },
  {
   "cell_type": "markdown",
   "id": "025145cb",
   "metadata": {},
   "source": [
    "Рассчитаем метрики для модели, обученной логистической регрессии"
   ]
  },
  {
   "cell_type": "code",
   "execution_count": 31,
   "id": "8a188aa0",
   "metadata": {},
   "outputs": [
    {
     "data": {
      "text/plain": [
       "'Accuracy:0.92, Precision:0.85, Recall:0.83, F1:0.84'"
      ]
     },
     "execution_count": 31,
     "metadata": {},
     "output_type": "execute_result"
    }
   ],
   "source": [
    "LR_no_multi = metrics_printer(y_test, predictions_LR)\n",
    "LR_no_multi"
   ]
  },
  {
   "cell_type": "markdown",
   "id": "81de1806",
   "metadata": {},
   "source": [
    "Рассчитаем метрики для модели, обученной алгоритмом Случайный Лес"
   ]
  },
  {
   "cell_type": "code",
   "execution_count": 32,
   "id": "8427b2f4",
   "metadata": {},
   "outputs": [
    {
     "data": {
      "text/plain": [
       "'Accuracy:0.92, Precision:0.85, Recall:0.83, F1:0.84'"
      ]
     },
     "execution_count": 32,
     "metadata": {},
     "output_type": "execute_result"
    }
   ],
   "source": [
    "RF_no_multi=metrics_printer(y_test, predictions_RF)\n",
    "LR_no_multi"
   ]
  },
  {
   "cell_type": "markdown",
   "id": "4bc342f8",
   "metadata": {},
   "source": [
    "## а что с Lifetime?\n",
    "Все модели я считала до того, как заметила, что признак Lifetime содержит ошибки и, что даже более важно, наша база клиентов слишком \"свежая\" и Lifetime не достаточно информативен даже там, где он  корректен. Посмотрим, как будет обучаться модель, если удалить этот признак полностью:"
   ]
  },
  {
   "cell_type": "code",
   "execution_count": 33,
   "id": "3e7cd417",
   "metadata": {},
   "outputs": [
    {
     "data": {
      "text/html": [
       "<div>\n",
       "<style scoped>\n",
       "    .dataframe tbody tr th:only-of-type {\n",
       "        vertical-align: middle;\n",
       "    }\n",
       "\n",
       "    .dataframe tbody tr th {\n",
       "        vertical-align: top;\n",
       "    }\n",
       "\n",
       "    .dataframe thead th {\n",
       "        text-align: right;\n",
       "    }\n",
       "</style>\n",
       "<table border=\"1\" class=\"dataframe\">\n",
       "  <thead>\n",
       "    <tr style=\"text-align: right;\">\n",
       "      <th></th>\n",
       "      <th>gender</th>\n",
       "      <th>Near_Location</th>\n",
       "      <th>Partner</th>\n",
       "      <th>Promo_friends</th>\n",
       "      <th>Phone</th>\n",
       "      <th>Contract_period</th>\n",
       "      <th>Group_visits</th>\n",
       "      <th>Age</th>\n",
       "      <th>Avg_additional_charges_total</th>\n",
       "      <th>Month_to_end_contract</th>\n",
       "      <th>Avg_class_frequency_total</th>\n",
       "      <th>Avg_class_frequency_current_month</th>\n",
       "      <th>Churn</th>\n",
       "    </tr>\n",
       "  </thead>\n",
       "  <tbody>\n",
       "    <tr>\n",
       "      <th>0</th>\n",
       "      <td>1</td>\n",
       "      <td>1</td>\n",
       "      <td>1</td>\n",
       "      <td>1</td>\n",
       "      <td>0</td>\n",
       "      <td>6</td>\n",
       "      <td>1</td>\n",
       "      <td>29</td>\n",
       "      <td>14.227470</td>\n",
       "      <td>5.0</td>\n",
       "      <td>0.020398</td>\n",
       "      <td>0.000000</td>\n",
       "      <td>0</td>\n",
       "    </tr>\n",
       "    <tr>\n",
       "      <th>1</th>\n",
       "      <td>0</td>\n",
       "      <td>1</td>\n",
       "      <td>0</td>\n",
       "      <td>0</td>\n",
       "      <td>1</td>\n",
       "      <td>12</td>\n",
       "      <td>1</td>\n",
       "      <td>31</td>\n",
       "      <td>113.202938</td>\n",
       "      <td>12.0</td>\n",
       "      <td>1.922936</td>\n",
       "      <td>1.910244</td>\n",
       "      <td>0</td>\n",
       "    </tr>\n",
       "    <tr>\n",
       "      <th>2</th>\n",
       "      <td>0</td>\n",
       "      <td>1</td>\n",
       "      <td>1</td>\n",
       "      <td>0</td>\n",
       "      <td>1</td>\n",
       "      <td>1</td>\n",
       "      <td>0</td>\n",
       "      <td>28</td>\n",
       "      <td>129.448479</td>\n",
       "      <td>1.0</td>\n",
       "      <td>1.859098</td>\n",
       "      <td>1.736502</td>\n",
       "      <td>0</td>\n",
       "    </tr>\n",
       "    <tr>\n",
       "      <th>3</th>\n",
       "      <td>0</td>\n",
       "      <td>1</td>\n",
       "      <td>1</td>\n",
       "      <td>1</td>\n",
       "      <td>1</td>\n",
       "      <td>12</td>\n",
       "      <td>1</td>\n",
       "      <td>33</td>\n",
       "      <td>62.669863</td>\n",
       "      <td>12.0</td>\n",
       "      <td>3.205633</td>\n",
       "      <td>3.357215</td>\n",
       "      <td>0</td>\n",
       "    </tr>\n",
       "    <tr>\n",
       "      <th>4</th>\n",
       "      <td>1</td>\n",
       "      <td>1</td>\n",
       "      <td>1</td>\n",
       "      <td>1</td>\n",
       "      <td>1</td>\n",
       "      <td>1</td>\n",
       "      <td>0</td>\n",
       "      <td>26</td>\n",
       "      <td>198.362265</td>\n",
       "      <td>1.0</td>\n",
       "      <td>1.113884</td>\n",
       "      <td>1.120078</td>\n",
       "      <td>0</td>\n",
       "    </tr>\n",
       "  </tbody>\n",
       "</table>\n",
       "</div>"
      ],
      "text/plain": [
       "   gender  Near_Location  Partner  Promo_friends  Phone  Contract_period  \\\n",
       "0       1              1        1              1      0                6   \n",
       "1       0              1        0              0      1               12   \n",
       "2       0              1        1              0      1                1   \n",
       "3       0              1        1              1      1               12   \n",
       "4       1              1        1              1      1                1   \n",
       "\n",
       "   Group_visits  Age  Avg_additional_charges_total  Month_to_end_contract  \\\n",
       "0             1   29                     14.227470                    5.0   \n",
       "1             1   31                    113.202938                   12.0   \n",
       "2             0   28                    129.448479                    1.0   \n",
       "3             1   33                     62.669863                   12.0   \n",
       "4             0   26                    198.362265                    1.0   \n",
       "\n",
       "   Avg_class_frequency_total  Avg_class_frequency_current_month  Churn  \n",
       "0                   0.020398                           0.000000      0  \n",
       "1                   1.922936                           1.910244      0  \n",
       "2                   1.859098                           1.736502      0  \n",
       "3                   3.205633                           3.357215      0  \n",
       "4                   1.113884                           1.120078      0  "
      ]
     },
     "execution_count": 33,
     "metadata": {},
     "output_type": "execute_result"
    }
   ],
   "source": [
    "df_no_lifetime = df.drop('Lifetime', axis=1)\n",
    "df_no_lifetime.head()"
   ]
  },
  {
   "cell_type": "code",
   "execution_count": 34,
   "id": "f46e5439",
   "metadata": {},
   "outputs": [],
   "source": [
    "X = df_no_lifetime.drop('Churn', axis=1)\n",
    "y = df_no_lifetime['Churn']"
   ]
  },
  {
   "cell_type": "markdown",
   "id": "e8fc0fa4",
   "metadata": {},
   "source": [
    "Разделяем модель на обучающую и валидационную выборку"
   ]
  },
  {
   "cell_type": "code",
   "execution_count": 35,
   "id": "760b58ae",
   "metadata": {},
   "outputs": [],
   "source": [
    "X_train, X_test, y_train, y_test = train_test_split(X, y, test_size=0.2, random_state=0) "
   ]
  },
  {
   "cell_type": "markdown",
   "id": "a4b434ce",
   "metadata": {},
   "source": [
    "## Логистическая регрессия - 3"
   ]
  },
  {
   "cell_type": "code",
   "execution_count": 36,
   "id": "852fbec3",
   "metadata": {},
   "outputs": [],
   "source": [
    "model_LR = LogisticRegression(solver='liblinear', random_state=0)\n",
    "\n",
    "# обучите модель\n",
    "model_LR.fit(X_train,y_train)\n",
    "\n",
    "# воспользуйтесь уже обученной моделью, чтобы сделать прогнозы\n",
    "predictions_LR = model_LR.predict(X_test)\n",
    "probabilities = model_LR.predict_proba(X_test)[:,1]"
   ]
  },
  {
   "cell_type": "code",
   "execution_count": 37,
   "id": "811ed497",
   "metadata": {},
   "outputs": [
    {
     "data": {
      "text/plain": [
       "0.9264656532098393"
      ]
     },
     "execution_count": 37,
     "metadata": {},
     "output_type": "execute_result"
    }
   ],
   "source": [
    "from sklearn.metrics import roc_auc_score\n",
    "roc_auc_3 = roc_auc_score(y_test, probabilities) \n",
    "roc_auc_3"
   ]
  },
  {
   "cell_type": "markdown",
   "id": "4d4efce1",
   "metadata": {},
   "source": [
    "## Random Forest - 3"
   ]
  },
  {
   "cell_type": "code",
   "execution_count": 38,
   "id": "74d7bea5",
   "metadata": {},
   "outputs": [],
   "source": [
    "model_RF = RandomForestClassifier(n_estimators = 100, random_state=0)\n",
    "\n",
    "# обучите модель\n",
    "model_RF.fit(X_train,y_train)\n",
    "\n",
    "# воспользуйтесь уже обученной моделью, чтобы сделать прогнозы\n",
    "predictions_RF = model_RF.predict(X_test)"
   ]
  },
  {
   "cell_type": "markdown",
   "id": "74c32360",
   "metadata": {},
   "source": [
    "## Метрики accuracy, precision и recall - 3"
   ]
  },
  {
   "cell_type": "markdown",
   "id": "24b8fe23",
   "metadata": {},
   "source": [
    "Рассчитаем метрики для модели, обученной логистической регрессии"
   ]
  },
  {
   "cell_type": "code",
   "execution_count": 39,
   "id": "eb39e9ed",
   "metadata": {},
   "outputs": [
    {
     "data": {
      "text/plain": [
       "'Accuracy:0.90, Precision:0.86, Recall:0.71, F1:0.78'"
      ]
     },
     "execution_count": 39,
     "metadata": {},
     "output_type": "execute_result"
    }
   ],
   "source": [
    "LR_drop_lifetime = metrics_printer(y_test, predictions_LR)\n",
    "LR_drop_lifetime"
   ]
  },
  {
   "cell_type": "markdown",
   "id": "87b8f2e0",
   "metadata": {},
   "source": [
    "Рассчитаем метрики для модели, обученной алгоритмом Случайный Лес"
   ]
  },
  {
   "cell_type": "code",
   "execution_count": 40,
   "id": "b9c9760f",
   "metadata": {},
   "outputs": [
    {
     "data": {
      "text/plain": [
       "'Accuracy:0.88, Precision:0.79, Recall:0.73, F1:0.76'"
      ]
     },
     "execution_count": 40,
     "metadata": {},
     "output_type": "execute_result"
    }
   ],
   "source": [
    "RF_drop_lifetime = metrics_printer(y_test, predictions_RF)\n",
    "RF_drop_lifetime"
   ]
  },
  {
   "cell_type": "markdown",
   "id": "24cb13d0",
   "metadata": {},
   "source": [
    "##  Выводы"
   ]
  },
  {
   "cell_type": "code",
   "execution_count": 41,
   "id": "b4750d53",
   "metadata": {},
   "outputs": [
    {
     "name": "stdout",
     "output_type": "stream",
     "text": [
      "LR_Full_dataset: Accuracy:0.93, Precision:0.89, Recall:0.84, F1:0.87\n",
      "RF_Full_dataset: Accuracy:0.92, Precision:0.88, Recall:0.83, F1:0.85\n",
      "roc_auc_full_dataset: 0.98\n",
      "\n",
      "LR_no_multi: Accuracy:0.92, Precision:0.85, Recall:0.83, F1:0.84\n",
      "RF_no_multi: Accuracy:0.91, Precision:0.85, Recall:0.80, F1:0.82\n",
      "roc_auc_no_multi: 0.97\n",
      "\n",
      "LR_drop_lifetime: Accuracy:0.90, Precision:0.86, Recall:0.71, F1:0.78\n",
      "RF_drop_lifetime: Accuracy:0.88, Precision:0.79, Recall:0.73, F1:0.76\n",
      "roc_auc_drop_lifetime: 0.93\n"
     ]
    }
   ],
   "source": [
    "print('LR_Full_dataset:', LR_Full_dataset)\n",
    "print('RF_Full_dataset:',RF_Full_dataset)\n",
    "print('roc_auc_full_dataset: {:.2f}'.format(roc_auc_1))\n",
    "print()\n",
    "print('LR_no_multi:', LR_no_multi)\n",
    "print('RF_no_multi:',RF_no_multi)\n",
    "print('roc_auc_no_multi: {:.2f}'.format(roc_auc_2))\n",
    "print()\n",
    "print('LR_drop_lifetime:', LR_drop_lifetime)\n",
    "print('RF_drop_lifetime:',RF_drop_lifetime)\n",
    "print('roc_auc_drop_lifetime: {:.2f}'.format(roc_auc_3))"
   ]
  },
  {
   "cell_type": "markdown",
   "id": "b2a76027",
   "metadata": {},
   "source": [
    "Наилучшие метрики были получены на максимально полном датасете.\n",
    "\n",
    "После удаления мультиколлинеарности метрики стали хуже. \n",
    "\n",
    "После удаления столбца Lifetime с некорректными данными метрики также ухудшились. По-видимому, этот столбец не так уж плох :)"
   ]
  },
  {
   "cell_type": "markdown",
   "id": "070190c5",
   "metadata": {},
   "source": [
    "Предположение, почему после удаления мультиколлинеарности метрики ухудшились. Если задуматься о сути даных, то не должно быть такой высокой корреляции между нашими двумя парами столбцов (длительнось абонемента и срок до окончания абонемента, средняя частота посещений в целом и средняя частота посещений в текущем месяце). Срок до окончания абонемента должен быть точно в среднем меньше, чем длительность абонемента, а в наших данных они почти совпадают. \n",
    "\n",
    "Причина может быть в том, что в базе данных слишком много коротких контрактов (и действительно -  в базе 2200 шт контрактов длительностью 1 месяц) или у нас данные из фитнес-центра, который только начал работать и все действующие контракты новые и были заключены примерно в одно время (и действиельно - средний Lifetime меньше 4 мес). Поэтому у них остаток месяцев по контрактам почти совпадает с длительностью контрактов."
   ]
  },
  {
   "cell_type": "markdown",
   "id": "dbf6753d",
   "metadata": {},
   "source": [
    "# Кластеризация клиентов"
   ]
  },
  {
   "cell_type": "markdown",
   "id": "a0722204",
   "metadata": {},
   "source": [
    "## Стандартизация данных\n",
    "Стандартизирую данные методом StandartScaler"
   ]
  },
  {
   "cell_type": "code",
   "execution_count": 42,
   "id": "8e364294",
   "metadata": {},
   "outputs": [],
   "source": [
    "from sklearn.preprocessing import StandardScaler\n",
    "\n",
    "scaler = StandardScaler()\n",
    "scaler.fit(X_train) # обучите scaler на обучающей выборке методом fit\n",
    "X_train_st = scaler.transform(X_train) # стандартизируйте обучающую выборку методом transform scaler \n",
    "X_test_st = scaler.transform(X_test) # стандартизируйте тестовую выборку методом transform scaler\n",
    "X_st = scaler.transform(X) # стандартизирую всю выборку методом transform scaler"
   ]
  },
  {
   "cell_type": "markdown",
   "id": "890d225d",
   "metadata": {},
   "source": [
    "## Матрица расстояний и дендрограмма\n",
    "\n",
    "Постройте матрицу расстояний функцией linkage() на стандартизованной матрице признаков и нарисуйте дендрограмму. На основании полученного графика предположите, какое количество кластеров можно выделить."
   ]
  },
  {
   "cell_type": "code",
   "execution_count": 43,
   "id": "20a11c8a",
   "metadata": {},
   "outputs": [],
   "source": [
    "from scipy.cluster.hierarchy import dendrogram, linkage\n",
    "linked = linkage(X_st, method = 'ward')"
   ]
  },
  {
   "cell_type": "code",
   "execution_count": 44,
   "id": "e3fd4f9d",
   "metadata": {},
   "outputs": [
    {
     "data": {
      "image/png": "[encoded data removed]",
      "text/plain": [
       "<Figure size 1080x720 with 1 Axes>"
      ]
     },
     "metadata": {
      "needs_background": "light"
     },
     "output_type": "display_data"
    }
   ],
   "source": [
    "plt.figure(figsize=(15,10))\n",
    "dendrogram(linked,orientation='top')\n",
    "plt.show()"
   ]
  },
  {
   "cell_type": "markdown",
   "id": "835027b5",
   "metadata": {},
   "source": [
    "по количеству цветов определяем, что рекомендуемое количество кластеров - 4"
   ]
  },
  {
   "cell_type": "markdown",
   "id": "8e072769",
   "metadata": {},
   "source": [
    "##  Кластеры\n",
    "Обучить модель кластеризации на основании алгоритма K-Means и спрогнозировать кластеры клиентов. За число кластеров принять n=5 (вне зависимости от результатов предыдущего пункта)."
   ]
  },
  {
   "cell_type": "code",
   "execution_count": 45,
   "id": "3399ef11",
   "metadata": {},
   "outputs": [],
   "source": [
    "from sklearn.cluster import KMeans\n",
    "\n",
    "km = KMeans(n_clusters = 5, random_state=0) #задаем число кластеров, равное 5\n",
    "labels = km.fit_predict(X_st)"
   ]
  },
  {
   "cell_type": "code",
   "execution_count": 46,
   "id": "3728a193",
   "metadata": {},
   "outputs": [
    {
     "data": {
      "text/html": [
       "<div>\n",
       "<style scoped>\n",
       "    .dataframe tbody tr th:only-of-type {\n",
       "        vertical-align: middle;\n",
       "    }\n",
       "\n",
       "    .dataframe tbody tr th {\n",
       "        vertical-align: top;\n",
       "    }\n",
       "\n",
       "    .dataframe thead th {\n",
       "        text-align: right;\n",
       "    }\n",
       "</style>\n",
       "<table border=\"1\" class=\"dataframe\">\n",
       "  <thead>\n",
       "    <tr style=\"text-align: right;\">\n",
       "      <th></th>\n",
       "      <th>gender</th>\n",
       "      <th>Near_Location</th>\n",
       "      <th>Partner</th>\n",
       "      <th>Promo_friends</th>\n",
       "      <th>Phone</th>\n",
       "      <th>Contract_period</th>\n",
       "      <th>Group_visits</th>\n",
       "      <th>Age</th>\n",
       "      <th>Avg_additional_charges_total</th>\n",
       "      <th>Month_to_end_contract</th>\n",
       "      <th>Lifetime</th>\n",
       "      <th>Avg_class_frequency_total</th>\n",
       "      <th>Avg_class_frequency_current_month</th>\n",
       "      <th>Churn</th>\n",
       "    </tr>\n",
       "  </thead>\n",
       "  <tbody>\n",
       "    <tr>\n",
       "      <th>0</th>\n",
       "      <td>1</td>\n",
       "      <td>1</td>\n",
       "      <td>1</td>\n",
       "      <td>1</td>\n",
       "      <td>0</td>\n",
       "      <td>6</td>\n",
       "      <td>1</td>\n",
       "      <td>29</td>\n",
       "      <td>14.227470</td>\n",
       "      <td>5.0</td>\n",
       "      <td>3</td>\n",
       "      <td>0.020398</td>\n",
       "      <td>0.000000</td>\n",
       "      <td>0</td>\n",
       "    </tr>\n",
       "    <tr>\n",
       "      <th>1</th>\n",
       "      <td>0</td>\n",
       "      <td>1</td>\n",
       "      <td>0</td>\n",
       "      <td>0</td>\n",
       "      <td>1</td>\n",
       "      <td>12</td>\n",
       "      <td>1</td>\n",
       "      <td>31</td>\n",
       "      <td>113.202938</td>\n",
       "      <td>12.0</td>\n",
       "      <td>7</td>\n",
       "      <td>1.922936</td>\n",
       "      <td>1.910244</td>\n",
       "      <td>0</td>\n",
       "    </tr>\n",
       "    <tr>\n",
       "      <th>2</th>\n",
       "      <td>0</td>\n",
       "      <td>1</td>\n",
       "      <td>1</td>\n",
       "      <td>0</td>\n",
       "      <td>1</td>\n",
       "      <td>1</td>\n",
       "      <td>0</td>\n",
       "      <td>28</td>\n",
       "      <td>129.448479</td>\n",
       "      <td>1.0</td>\n",
       "      <td>2</td>\n",
       "      <td>1.859098</td>\n",
       "      <td>1.736502</td>\n",
       "      <td>0</td>\n",
       "    </tr>\n",
       "    <tr>\n",
       "      <th>3</th>\n",
       "      <td>0</td>\n",
       "      <td>1</td>\n",
       "      <td>1</td>\n",
       "      <td>1</td>\n",
       "      <td>1</td>\n",
       "      <td>12</td>\n",
       "      <td>1</td>\n",
       "      <td>33</td>\n",
       "      <td>62.669863</td>\n",
       "      <td>12.0</td>\n",
       "      <td>2</td>\n",
       "      <td>3.205633</td>\n",
       "      <td>3.357215</td>\n",
       "      <td>0</td>\n",
       "    </tr>\n",
       "    <tr>\n",
       "      <th>4</th>\n",
       "      <td>1</td>\n",
       "      <td>1</td>\n",
       "      <td>1</td>\n",
       "      <td>1</td>\n",
       "      <td>1</td>\n",
       "      <td>1</td>\n",
       "      <td>0</td>\n",
       "      <td>26</td>\n",
       "      <td>198.362265</td>\n",
       "      <td>1.0</td>\n",
       "      <td>3</td>\n",
       "      <td>1.113884</td>\n",
       "      <td>1.120078</td>\n",
       "      <td>0</td>\n",
       "    </tr>\n",
       "  </tbody>\n",
       "</table>\n",
       "</div>"
      ],
      "text/plain": [
       "   gender  Near_Location  Partner  Promo_friends  Phone  Contract_period  \\\n",
       "0       1              1        1              1      0                6   \n",
       "1       0              1        0              0      1               12   \n",
       "2       0              1        1              0      1                1   \n",
       "3       0              1        1              1      1               12   \n",
       "4       1              1        1              1      1                1   \n",
       "\n",
       "   Group_visits  Age  Avg_additional_charges_total  Month_to_end_contract  \\\n",
       "0             1   29                     14.227470                    5.0   \n",
       "1             1   31                    113.202938                   12.0   \n",
       "2             0   28                    129.448479                    1.0   \n",
       "3             1   33                     62.669863                   12.0   \n",
       "4             0   26                    198.362265                    1.0   \n",
       "\n",
       "   Lifetime  Avg_class_frequency_total  Avg_class_frequency_current_month  \\\n",
       "0         3                   0.020398                           0.000000   \n",
       "1         7                   1.922936                           1.910244   \n",
       "2         2                   1.859098                           1.736502   \n",
       "3         2                   3.205633                           3.357215   \n",
       "4         3                   1.113884                           1.120078   \n",
       "\n",
       "   Churn  \n",
       "0      0  \n",
       "1      0  \n",
       "2      0  \n",
       "3      0  \n",
       "4      0  "
      ]
     },
     "execution_count": 46,
     "metadata": {},
     "output_type": "execute_result"
    }
   ],
   "source": [
    "df.head()"
   ]
  },
  {
   "cell_type": "code",
   "execution_count": 47,
   "id": "f5476b98",
   "metadata": {},
   "outputs": [],
   "source": [
    "# сохраняем метки кластера в поле нашего датасета\n",
    "df['cluster'] = labels\n",
    "# выводим статистику по средним значениям наших признаков по кластеру\n",
    "df_clusters = df.groupby('cluster').mean()"
   ]
  },
  {
   "cell_type": "code",
   "execution_count": 48,
   "id": "61c713b5",
   "metadata": {
    "scrolled": true
   },
   "outputs": [
    {
     "data": {
      "text/html": [
       "<div>\n",
       "<style scoped>\n",
       "    .dataframe tbody tr th:only-of-type {\n",
       "        vertical-align: middle;\n",
       "    }\n",
       "\n",
       "    .dataframe tbody tr th {\n",
       "        vertical-align: top;\n",
       "    }\n",
       "\n",
       "    .dataframe thead th {\n",
       "        text-align: right;\n",
       "    }\n",
       "</style>\n",
       "<table border=\"1\" class=\"dataframe\">\n",
       "  <thead>\n",
       "    <tr style=\"text-align: right;\">\n",
       "      <th></th>\n",
       "      <th>gender</th>\n",
       "      <th>Near_Location</th>\n",
       "      <th>Partner</th>\n",
       "      <th>Promo_friends</th>\n",
       "      <th>Phone</th>\n",
       "      <th>Contract_period</th>\n",
       "      <th>Group_visits</th>\n",
       "      <th>Age</th>\n",
       "      <th>Avg_additional_charges_total</th>\n",
       "      <th>Month_to_end_contract</th>\n",
       "      <th>Lifetime</th>\n",
       "      <th>Avg_class_frequency_total</th>\n",
       "      <th>Avg_class_frequency_current_month</th>\n",
       "      <th>Churn</th>\n",
       "    </tr>\n",
       "    <tr>\n",
       "      <th>cluster</th>\n",
       "      <th></th>\n",
       "      <th></th>\n",
       "      <th></th>\n",
       "      <th></th>\n",
       "      <th></th>\n",
       "      <th></th>\n",
       "      <th></th>\n",
       "      <th></th>\n",
       "      <th></th>\n",
       "      <th></th>\n",
       "      <th></th>\n",
       "      <th></th>\n",
       "      <th></th>\n",
       "      <th></th>\n",
       "    </tr>\n",
       "  </thead>\n",
       "  <tbody>\n",
       "    <tr>\n",
       "      <th>0</th>\n",
       "      <td>0.496094</td>\n",
       "      <td>0.000000</td>\n",
       "      <td>0.462891</td>\n",
       "      <td>0.080078</td>\n",
       "      <td>1.0</td>\n",
       "      <td>2.439453</td>\n",
       "      <td>0.216797</td>\n",
       "      <td>28.500000</td>\n",
       "      <td>135.967806</td>\n",
       "      <td>2.283203</td>\n",
       "      <td>2.910156</td>\n",
       "      <td>1.668079</td>\n",
       "      <td>1.486657</td>\n",
       "      <td>0.437500</td>\n",
       "    </tr>\n",
       "    <tr>\n",
       "      <th>1</th>\n",
       "      <td>0.485782</td>\n",
       "      <td>1.000000</td>\n",
       "      <td>0.346761</td>\n",
       "      <td>0.230648</td>\n",
       "      <td>1.0</td>\n",
       "      <td>1.957346</td>\n",
       "      <td>0.338863</td>\n",
       "      <td>28.248025</td>\n",
       "      <td>131.916855</td>\n",
       "      <td>1.855450</td>\n",
       "      <td>2.948657</td>\n",
       "      <td>1.236770</td>\n",
       "      <td>1.008515</td>\n",
       "      <td>0.488152</td>\n",
       "    </tr>\n",
       "    <tr>\n",
       "      <th>2</th>\n",
       "      <td>0.523316</td>\n",
       "      <td>0.862694</td>\n",
       "      <td>0.471503</td>\n",
       "      <td>0.305699</td>\n",
       "      <td>0.0</td>\n",
       "      <td>4.777202</td>\n",
       "      <td>0.427461</td>\n",
       "      <td>29.297927</td>\n",
       "      <td>144.208179</td>\n",
       "      <td>4.466321</td>\n",
       "      <td>3.940415</td>\n",
       "      <td>1.854211</td>\n",
       "      <td>1.723967</td>\n",
       "      <td>0.266839</td>\n",
       "    </tr>\n",
       "    <tr>\n",
       "      <th>3</th>\n",
       "      <td>0.560096</td>\n",
       "      <td>0.979567</td>\n",
       "      <td>0.361779</td>\n",
       "      <td>0.242788</td>\n",
       "      <td>1.0</td>\n",
       "      <td>2.670673</td>\n",
       "      <td>0.478365</td>\n",
       "      <td>30.069712</td>\n",
       "      <td>159.919562</td>\n",
       "      <td>2.456731</td>\n",
       "      <td>4.223558</td>\n",
       "      <td>2.878366</td>\n",
       "      <td>2.871591</td>\n",
       "      <td>0.098558</td>\n",
       "    </tr>\n",
       "    <tr>\n",
       "      <th>4</th>\n",
       "      <td>0.501992</td>\n",
       "      <td>0.963147</td>\n",
       "      <td>0.784861</td>\n",
       "      <td>0.578685</td>\n",
       "      <td>1.0</td>\n",
       "      <td>10.888446</td>\n",
       "      <td>0.543825</td>\n",
       "      <td>29.936255</td>\n",
       "      <td>161.788070</td>\n",
       "      <td>9.965139</td>\n",
       "      <td>4.622510</td>\n",
       "      <td>1.977835</td>\n",
       "      <td>1.967773</td>\n",
       "      <td>0.033865</td>\n",
       "    </tr>\n",
       "  </tbody>\n",
       "</table>\n",
       "</div>"
      ],
      "text/plain": [
       "           gender  Near_Location   Partner  Promo_friends  Phone  \\\n",
       "cluster                                                            \n",
       "0        0.496094       0.000000  0.462891       0.080078    1.0   \n",
       "1        0.485782       1.000000  0.346761       0.230648    1.0   \n",
       "2        0.523316       0.862694  0.471503       0.305699    0.0   \n",
       "3        0.560096       0.979567  0.361779       0.242788    1.0   \n",
       "4        0.501992       0.963147  0.784861       0.578685    1.0   \n",
       "\n",
       "         Contract_period  Group_visits        Age  \\\n",
       "cluster                                             \n",
       "0               2.439453      0.216797  28.500000   \n",
       "1               1.957346      0.338863  28.248025   \n",
       "2               4.777202      0.427461  29.297927   \n",
       "3               2.670673      0.478365  30.069712   \n",
       "4              10.888446      0.543825  29.936255   \n",
       "\n",
       "         Avg_additional_charges_total  Month_to_end_contract  Lifetime  \\\n",
       "cluster                                                                  \n",
       "0                          135.967806               2.283203  2.910156   \n",
       "1                          131.916855               1.855450  2.948657   \n",
       "2                          144.208179               4.466321  3.940415   \n",
       "3                          159.919562               2.456731  4.223558   \n",
       "4                          161.788070               9.965139  4.622510   \n",
       "\n",
       "         Avg_class_frequency_total  Avg_class_frequency_current_month  \\\n",
       "cluster                                                                 \n",
       "0                         1.668079                           1.486657   \n",
       "1                         1.236770                           1.008515   \n",
       "2                         1.854211                           1.723967   \n",
       "3                         2.878366                           2.871591   \n",
       "4                         1.977835                           1.967773   \n",
       "\n",
       "            Churn  \n",
       "cluster            \n",
       "0        0.437500  \n",
       "1        0.488152  \n",
       "2        0.266839  \n",
       "3        0.098558  \n",
       "4        0.033865  "
      ]
     },
     "execution_count": 48,
     "metadata": {},
     "output_type": "execute_result"
    }
   ],
   "source": [
    "df_clusters"
   ]
  },
  {
   "cell_type": "markdown",
   "id": "c9ecb808",
   "metadata": {},
   "source": [
    "Смотрим на средние значения признаков для кластеров.\n"
   ]
  },
  {
   "cell_type": "code",
   "execution_count": 49,
   "id": "b226e499",
   "metadata": {},
   "outputs": [
    {
     "data": {
      "text/plain": [
       "cluster\n",
       "0    0.437500\n",
       "1    0.488152\n",
       "2    0.266839\n",
       "3    0.098558\n",
       "4    0.033865\n",
       "Name: Churn, dtype: float64"
      ]
     },
     "execution_count": 49,
     "metadata": {},
     "output_type": "execute_result"
    }
   ],
   "source": [
    "df.groupby('cluster')['Churn'].mean()"
   ]
  },
  {
   "cell_type": "markdown",
   "id": "10f097be",
   "metadata": {},
   "source": [
    "Смотрим распределения признаков для кластеров. "
   ]
  },
  {
   "cell_type": "code",
   "execution_count": 50,
   "id": "3fc86bb3",
   "metadata": {},
   "outputs": [
    {
     "data": {
      "image/png": "[encoded data removed]",
      "text/plain": [
       "<Figure size 432x288 with 1 Axes>"
      ]
     },
     "metadata": {
      "needs_background": "light"
     },
     "output_type": "display_data"
    },
    {
     "data": {
      "image/png": "[encoded data removed]",
      "text/plain": [
       "<Figure size 432x288 with 1 Axes>"
      ]
     },
     "metadata": {
      "needs_background": "light"
     },
     "output_type": "display_data"
    },
    {
     "data": {
      "image/png": "[encoded data removed]",
      "text/plain": [
       "<Figure size 432x288 with 1 Axes>"
      ]
     },
     "metadata": {
      "needs_background": "light"
     },
     "output_type": "display_data"
    },
    {
     "data": {
      "image/png": "[encoded data removed]",
      "text/plain": [
       "<Figure size 432x288 with 1 Axes>"
      ]
     },
     "metadata": {
      "needs_background": "light"
     },
     "output_type": "display_data"
    },
    {
     "data": {
      "image/png": "[encoded data removed]",
      "text/plain": [
       "<Figure size 432x288 with 1 Axes>"
      ]
     },
     "metadata": {
      "needs_background": "light"
     },
     "output_type": "display_data"
    },
    {
     "data": {
      "image/png": "[encoded data removed]",
      "text/plain": [
       "<Figure size 432x288 with 1 Axes>"
      ]
     },
     "metadata": {
      "needs_background": "light"
     },
     "output_type": "display_data"
    },
    {
     "data": {
      "image/png": "[encoded data removed]",
      "text/plain": [
       "<Figure size 432x288 with 1 Axes>"
      ]
     },
     "metadata": {
      "needs_background": "light"
     },
     "output_type": "display_data"
    },
    {
     "data": {
      "image/png": "[encoded data removed]",
      "text/plain": [
       "<Figure size 432x288 with 1 Axes>"
      ]
     },
     "metadata": {
      "needs_background": "light"
     },
     "output_type": "display_data"
    },
    {
     "data": {
      "image/png": "[encoded data removed]",
      "text/plain": [
       "<Figure size 432x288 with 1 Axes>"
      ]
     },
     "metadata": {
      "needs_background": "light"
     },
     "output_type": "display_data"
    },
    {
     "data": {
      "image/png": "[encoded data removed]",
      "text/plain": [
       "<Figure size 432x288 with 1 Axes>"
      ]
     },
     "metadata": {
      "needs_background": "light"
     },
     "output_type": "display_data"
    },
    {
     "data": {
      "image/png": "[encoded data removed]",
      "text/plain": [
       "<Figure size 432x288 with 1 Axes>"
      ]
     },
     "metadata": {
      "needs_background": "light"
     },
     "output_type": "display_data"
    },
    {
     "data": {
      "image/png": "[encoded data removed]",
      "text/plain": [
       "<Figure size 432x288 with 1 Axes>"
      ]
     },
     "metadata": {
      "needs_background": "light"
     },
     "output_type": "display_data"
    },
    {
     "data": {
      "image/png": "[encoded data removed]",
      "text/plain": [
       "<Figure size 432x288 with 1 Axes>"
      ]
     },
     "metadata": {
      "needs_background": "light"
     },
     "output_type": "display_data"
    },
    {
     "data": {
      "image/png": "[encoded data removed]",
      "text/plain": [
       "<Figure size 432x288 with 1 Axes>"
      ]
     },
     "metadata": {
      "needs_background": "light"
     },
     "output_type": "display_data"
    },
    {
     "data": {
      "image/png": "[encoded data removed]",
      "text/plain": [
       "<Figure size 432x288 with 1 Axes>"
      ]
     },
     "metadata": {
      "needs_background": "light"
     },
     "output_type": "display_data"
    }
   ],
   "source": [
    "plt.title('Распределения признаков для кластеров')\n",
    "for feature in df.columns:\n",
    "    sns.distplot(df.query('cluster == 0')[feature], bins=10)\n",
    "    sns.distplot(df.query('cluster == 1')[feature], bins=10)\n",
    "    sns.distplot(df.query('cluster == 2')[feature], bins=10)\n",
    "    sns.distplot(df.query('cluster == 3')[feature], bins=10)\n",
    "    sns.distplot(df.query('cluster == 4')[feature], bins=10)\n",
    "    plt.legend('cluster')\n",
    "    plt.show() \n",
    "    \n",
    "\n",
    "\n",
    "warnings.simplefilter('ignore')    "
   ]
  },
  {
   "cell_type": "markdown",
   "id": "77e8b686",
   "metadata": {},
   "source": [
    "## Отток по кластерам\n",
    "Для каждого полученного кластера посчитайте долю оттока (методом groupby()). Отличаются ли они по доле оттока? Какие кластеры склонны к оттоку, а какие — надёжны?"
   ]
  },
  {
   "cell_type": "code",
   "execution_count": 51,
   "id": "c0221418",
   "metadata": {},
   "outputs": [
    {
     "data": {
      "text/plain": [
       "cluster\n",
       "0    0.437500\n",
       "1    0.488152\n",
       "2    0.266839\n",
       "3    0.098558\n",
       "4    0.033865\n",
       "Name: Churn, dtype: float64"
      ]
     },
     "execution_count": 51,
     "metadata": {},
     "output_type": "execute_result"
    }
   ],
   "source": [
    "df.groupby('cluster')['Churn'].mean()"
   ]
  },
  {
   "cell_type": "markdown",
   "id": "475b3034",
   "metadata": {},
   "source": [
    "Кластеры отличаются по доле оттока - в первом и третьем кластерах (индексы 0 и 3 соотв) доля оттока минимальная (2 % и 9% соответственно). Во втором и пятом кластерах (инд 1,4) отток 24-26%, во третьем - примерно половина (57%)."
   ]
  },
  {
   "cell_type": "markdown",
   "id": "bae6ca7f",
   "metadata": {},
   "source": [
    "# Выводы и базовые рекомендации"
   ]
  },
  {
   "cell_type": "markdown",
   "id": "01c689b5",
   "metadata": {},
   "source": [
    "Сформулируйте основные выводы и предложите рекомендации для стратегии взаимодействия с клиентами и их удержания.\n",
    "Не описывайте стратегию детально: достаточно 3-4 важных принципов и примеров их реализации в виде определённых маркетинговых действий."
   ]
  },
  {
   "cell_type": "markdown",
   "id": "f09123b7",
   "metadata": {},
   "source": [
    "## Выводы\n",
    "\n",
    "Я рассмотрела датасет из 4000 записей с 14 признаками с целью научиться прогнозировать отток клиентов. В данном датасете 26,5% клиентов ушло в отток. \n",
    "\n",
    "В данных выявлено 137 записей с ошибкой в признаке Lifetime. Удаление этого признака не привело к повышению качества прогноза. \n",
    "Других ошибок или аномалий не замечено.\n",
    "\n",
    "**Средние значения признаков для оттока и лояльных (НЕотток) клиентов**\n",
    "\n",
    "У части признаков средние значения близки в обеих группах, но есть и заметные различия. Схожие признаки:\n",
    "\n",
    "* соотношение полов;\n",
    "* наличие номера телефона;\n",
    "\n",
    "\n",
    "Признаки с небольшим отличием (10-12%):\n",
    "\n",
    "* близость к дому/работе;\n",
    "* возраст;\n",
    "Остальные признаки различются более заметно.\n",
    "\n",
    "В некоторых признаках заметна разница распределений у оттока и НЕоттока. Например, \"Near_Location\", \"Partner\", \"Promo_friends\", \"Contract_Period\", \"Month_to_end_contract\".\n",
    "\n",
    "Имеются две пары сильно коррелирующих признаков (95-95%) : Month_to_end_contract&Contract_period; Avg_class_frequency_total&Avg_class_frequency_current_month. "
   ]
  },
  {
   "cell_type": "markdown",
   "id": "6a89b491",
   "metadata": {},
   "source": [
    "**Обучение**\n",
    "\n",
    "Далее для прогнозирования я разделила весь датасет на тренировочную и валидационную выборки и обучила тренировочную выборку по алгоритмам \"логистическая регрессия\" и \"случайный лес\". Обученная модель затем была применена к валидацинной выборке и я посчитала метрики для оценки качества модели.\n",
    "\n",
    "Выбор алгоритмов был сделан заказчиком, этот выбор корректен, предложенные алгоритмы хорошо подходят для решения задачи бинарной классификации.\n",
    "\n",
    "Я сделала три набора датасетов: первый оригинальный датасет без корректировок, второй - после удаления мультиколлинеарности, третий - после удаления признака Lifetime (с сохранением мальтиколлинеарности). Каждый из трех наборов был обучен по двум алгоритмам, в итоге я получила всего шесть моделей и для каждой посчитала метрики. Наилучшие метрики получились при обучении полного датасета, без удаления Lifetime и мультиколлинеарности, алгоритмом \"логистическая регрессия\". \n",
    "\n",
    "LR_Full_dataset: Accuracy:0.93, Precision:0.89, Recall:0.84, F1:0.87\n",
    "roc_auc_full_dataset: 0.98\n",
    "\n",
    "Алгоритм логистической регрессии позволяет спрогнозировать не только класс (0 или 1), но и вероятность принадлежности к этому классу."
   ]
  },
  {
   "cell_type": "markdown",
   "id": "92d7b39d",
   "metadata": {},
   "source": [
    "**Кластеризация**\n",
    "\n",
    "Далее я применяю другой подход - кластеризацию (группировка клиентов по схожим признакам). Сначала данные стандартизирую и определяю рекомендованное количество кластеров - получается 4. Тем не менее, согласно условиям задачи, далее я разделяю выборку на 5 кластеров алгоритмом K-Means. Получившиеся кластеры позволяют увидеть закономерности, характерные для оттока."
   ]
  },
  {
   "cell_type": "markdown",
   "id": "dc526396",
   "metadata": {},
   "source": [
    "## Рекомендации\n",
    "\n",
    "Целесообразно привлекать клиентов, проживающих или работающих рядом с фитнес-центром. \n",
    "\n",
    "В кластере с минимальным оттоком больше клиентов являются сотрудниками компаний-партнёра клуба и/или пришли по акции \"приведи друга\". Целесообразно продолжать эти программы.\n",
    "\n",
    "В кластерах с минимальным оттоком более высокая средняя длительность текущего контракта.\n",
    "Рекомендация: стимулировать заключение долгосрочных контрактов.\n",
    "\n",
    "Снижение частоты посещения занятий в текущем месяце является тревожным звоночком.\n",
    "Отток больше у клиентов, у которых до конца контракта осталось меньше 2-х месяцев.\n",
    "Рекомендация: стимулировать активность клиента (доп.занятия, групповые занятия и тп) ближе к концу контракта."
   ]
  }
 ],
 "metadata": {
  "ExecuteTimeLog": [
   {
    "duration": 1632,
    "start_time": "2021-10-21T14:22:13.215Z"
   },
   {
    "duration": 471,
    "start_time": "2021-10-21T14:22:14.850Z"
   },
   {
    "duration": 11,
    "start_time": "2021-10-21T14:22:15.324Z"
   },
   {
    "duration": 98,
    "start_time": "2021-10-21T14:22:15.337Z"
   },
   {
    "duration": 8,
    "start_time": "2021-10-21T14:22:15.437Z"
   },
   {
    "duration": 41,
    "start_time": "2021-10-21T14:22:15.448Z"
   },
   {
    "duration": 11,
    "start_time": "2021-10-21T14:22:15.492Z"
   },
   {
    "duration": 18,
    "start_time": "2021-10-21T14:22:15.506Z"
   },
   {
    "duration": 27,
    "start_time": "2021-10-21T14:22:15.528Z"
   },
   {
    "duration": 861,
    "start_time": "2021-10-21T14:22:15.583Z"
   },
   {
    "duration": -16,
    "start_time": "2021-10-21T14:22:16.464Z"
   },
   {
    "duration": -17,
    "start_time": "2021-10-21T14:22:16.467Z"
   },
   {
    "duration": -18,
    "start_time": "2021-10-21T14:22:16.469Z"
   },
   {
    "duration": -19,
    "start_time": "2021-10-21T14:22:16.471Z"
   },
   {
    "duration": -38,
    "start_time": "2021-10-21T14:22:16.492Z"
   },
   {
    "duration": -40,
    "start_time": "2021-10-21T14:22:16.495Z"
   },
   {
    "duration": -42,
    "start_time": "2021-10-21T14:22:16.498Z"
   },
   {
    "duration": -42,
    "start_time": "2021-10-21T14:22:16.500Z"
   },
   {
    "duration": -44,
    "start_time": "2021-10-21T14:22:16.503Z"
   },
   {
    "duration": -44,
    "start_time": "2021-10-21T14:22:16.505Z"
   },
   {
    "duration": -24,
    "start_time": "2021-10-21T14:22:16.507Z"
   },
   {
    "duration": -26,
    "start_time": "2021-10-21T14:22:16.510Z"
   },
   {
    "duration": -27,
    "start_time": "2021-10-21T14:22:16.513Z"
   },
   {
    "duration": -28,
    "start_time": "2021-10-21T14:22:16.515Z"
   },
   {
    "duration": -29,
    "start_time": "2021-10-21T14:22:16.518Z"
   },
   {
    "duration": -31,
    "start_time": "2021-10-21T14:22:16.521Z"
   },
   {
    "duration": -32,
    "start_time": "2021-10-21T14:22:16.524Z"
   },
   {
    "duration": -97,
    "start_time": "2021-10-21T14:22:16.590Z"
   },
   {
    "duration": -99,
    "start_time": "2021-10-21T14:22:16.593Z"
   },
   {
    "duration": -100,
    "start_time": "2021-10-21T14:22:16.596Z"
   },
   {
    "duration": -102,
    "start_time": "2021-10-21T14:22:16.599Z"
   },
   {
    "duration": -103,
    "start_time": "2021-10-21T14:22:16.601Z"
   },
   {
    "duration": -105,
    "start_time": "2021-10-21T14:22:16.604Z"
   },
   {
    "duration": -105,
    "start_time": "2021-10-21T14:22:16.606Z"
   },
   {
    "duration": -106,
    "start_time": "2021-10-21T14:22:16.608Z"
   },
   {
    "duration": -107,
    "start_time": "2021-10-21T14:22:16.611Z"
   },
   {
    "duration": -109,
    "start_time": "2021-10-21T14:22:16.614Z"
   },
   {
    "duration": -109,
    "start_time": "2021-10-21T14:22:16.616Z"
   },
   {
    "duration": -111,
    "start_time": "2021-10-21T14:22:16.619Z"
   },
   {
    "duration": -112,
    "start_time": "2021-10-21T14:22:16.621Z"
   },
   {
    "duration": -113,
    "start_time": "2021-10-21T14:22:16.624Z"
   },
   {
    "duration": -114,
    "start_time": "2021-10-21T14:22:16.626Z"
   },
   {
    "duration": -115,
    "start_time": "2021-10-21T14:22:16.628Z"
   },
   {
    "duration": -116,
    "start_time": "2021-10-21T14:22:16.630Z"
   },
   {
    "duration": -116,
    "start_time": "2021-10-21T14:22:16.632Z"
   },
   {
    "duration": 28,
    "start_time": "2021-10-21T14:24:54.770Z"
   },
   {
    "duration": 663,
    "start_time": "2021-10-21T14:24:54.800Z"
   },
   {
    "duration": 52,
    "start_time": "2021-10-21T14:24:55.465Z"
   },
   {
    "duration": 8,
    "start_time": "2021-10-21T14:24:55.520Z"
   },
   {
    "duration": 90,
    "start_time": "2021-10-21T14:24:55.530Z"
   },
   {
    "duration": 641,
    "start_time": "2021-10-21T14:24:55.623Z"
   },
   {
    "duration": 3,
    "start_time": "2021-10-21T14:24:56.267Z"
   },
   {
    "duration": 12,
    "start_time": "2021-10-21T14:24:56.282Z"
   },
   {
    "duration": 11,
    "start_time": "2021-10-21T14:24:56.297Z"
   },
   {
    "duration": 18,
    "start_time": "2021-10-21T14:24:56.310Z"
   },
   {
    "duration": 22,
    "start_time": "2021-10-21T14:24:56.330Z"
   },
   {
    "duration": 15,
    "start_time": "2021-10-21T14:24:56.354Z"
   },
   {
    "duration": 59,
    "start_time": "2021-10-21T14:24:56.371Z"
   },
   {
    "duration": 444,
    "start_time": "2021-10-21T14:24:56.432Z"
   },
   {
    "duration": 4,
    "start_time": "2021-10-21T14:24:56.879Z"
   },
   {
    "duration": 23,
    "start_time": "2021-10-21T14:24:56.885Z"
   },
   {
    "duration": 28,
    "start_time": "2021-10-21T14:24:56.911Z"
   },
   {
    "duration": 32,
    "start_time": "2021-10-21T14:24:56.941Z"
   },
   {
    "duration": 17,
    "start_time": "2021-10-21T14:24:56.976Z"
   },
   {
    "duration": 20,
    "start_time": "2021-10-21T14:24:56.995Z"
   },
   {
    "duration": 67,
    "start_time": "2021-10-21T14:24:57.017Z"
   },
   {
    "duration": 720,
    "start_time": "2021-10-21T14:24:57.087Z"
   },
   {
    "duration": 4,
    "start_time": "2021-10-21T14:24:57.813Z"
   },
   {
    "duration": 17,
    "start_time": "2021-10-21T14:24:57.821Z"
   },
   {
    "duration": 12,
    "start_time": "2021-10-21T14:24:57.842Z"
   },
   {
    "duration": 14,
    "start_time": "2021-10-21T14:24:57.884Z"
   },
   {
    "duration": 784,
    "start_time": "2021-10-21T14:24:57.902Z"
   },
   {
    "duration": 133943,
    "start_time": "2021-10-21T14:24:58.689Z"
   },
   {
    "duration": 1758,
    "start_time": "2021-10-21T14:27:12.635Z"
   },
   {
    "duration": 99,
    "start_time": "2021-10-21T14:27:14.397Z"
   },
   {
    "duration": 13,
    "start_time": "2021-10-21T14:27:14.498Z"
   },
   {
    "duration": 47,
    "start_time": "2021-10-21T14:27:14.513Z"
   },
   {
    "duration": 25,
    "start_time": "2021-10-21T14:27:14.562Z"
   },
   {
    "duration": 750,
    "start_time": "2021-10-21T14:27:14.589Z"
   },
   {
    "duration": 5,
    "start_time": "2021-10-21T14:27:15.336Z"
   },
   {
    "duration": 9,
    "start_time": "2021-10-21T14:28:43.227Z"
   },
   {
    "duration": 1514,
    "start_time": "2021-10-24T09:53:45.561Z"
   },
   {
    "duration": 230,
    "start_time": "2021-10-24T09:53:47.078Z"
   },
   {
    "duration": 8,
    "start_time": "2021-10-24T09:53:47.312Z"
   },
   {
    "duration": 94,
    "start_time": "2021-10-24T09:53:47.322Z"
   },
   {
    "duration": 8,
    "start_time": "2021-10-24T09:53:47.418Z"
   },
   {
    "duration": 21,
    "start_time": "2021-10-24T09:53:47.428Z"
   },
   {
    "duration": 11,
    "start_time": "2021-10-24T09:53:47.452Z"
   },
   {
    "duration": 50,
    "start_time": "2021-10-24T09:53:47.467Z"
   },
   {
    "duration": 19,
    "start_time": "2021-10-24T09:53:47.521Z"
   },
   {
    "duration": 2,
    "start_time": "2021-10-24T09:53:47.543Z"
   },
   {
    "duration": 4958,
    "start_time": "2021-10-24T09:53:47.547Z"
   },
   {
    "duration": 28,
    "start_time": "2021-10-24T09:53:52.507Z"
   },
   {
    "duration": 662,
    "start_time": "2021-10-24T09:53:52.538Z"
   },
   {
    "duration": 44,
    "start_time": "2021-10-24T09:53:53.202Z"
   },
   {
    "duration": 10,
    "start_time": "2021-10-24T09:53:53.248Z"
   },
   {
    "duration": 97,
    "start_time": "2021-10-24T09:53:53.261Z"
   },
   {
    "duration": 99,
    "start_time": "2021-10-24T09:53:53.402Z"
   },
   {
    "duration": 30,
    "start_time": "2021-10-24T09:53:53.503Z"
   },
   {
    "duration": 482,
    "start_time": "2021-10-24T09:53:53.536Z"
   },
   {
    "duration": 32,
    "start_time": "2021-10-24T09:53:54.021Z"
   },
   {
    "duration": 3,
    "start_time": "2021-10-24T09:53:54.056Z"
   },
   {
    "duration": 8,
    "start_time": "2021-10-24T09:53:54.061Z"
   },
   {
    "duration": 25,
    "start_time": "2021-10-24T09:53:54.075Z"
   },
   {
    "duration": 4,
    "start_time": "2021-10-24T09:53:54.103Z"
   },
   {
    "duration": 12,
    "start_time": "2021-10-24T09:53:54.109Z"
   },
   {
    "duration": 4,
    "start_time": "2021-10-24T09:53:54.123Z"
   },
   {
    "duration": 11,
    "start_time": "2021-10-24T09:53:54.130Z"
   },
   {
    "duration": 5,
    "start_time": "2021-10-24T09:53:54.144Z"
   },
   {
    "duration": 51,
    "start_time": "2021-10-24T09:53:54.151Z"
   },
   {
    "duration": 13,
    "start_time": "2021-10-24T09:53:54.204Z"
   },
   {
    "duration": 46,
    "start_time": "2021-10-24T09:53:54.219Z"
   },
   {
    "duration": 33,
    "start_time": "2021-10-24T09:53:54.267Z"
   },
   {
    "duration": 473,
    "start_time": "2021-10-24T09:53:54.303Z"
   },
   {
    "duration": 21,
    "start_time": "2021-10-24T09:53:54.779Z"
   },
   {
    "duration": 11,
    "start_time": "2021-10-24T09:53:54.802Z"
   },
   {
    "duration": 18,
    "start_time": "2021-10-24T09:53:54.816Z"
   },
   {
    "duration": 6,
    "start_time": "2021-10-24T09:53:54.836Z"
   },
   {
    "duration": 8,
    "start_time": "2021-10-24T09:53:54.845Z"
   },
   {
    "duration": 246,
    "start_time": "2021-10-24T09:53:54.855Z"
   },
   {
    "duration": 100,
    "start_time": "2021-10-24T09:53:55.105Z"
   },
   {
    "duration": 521,
    "start_time": "2021-10-24T09:53:55.207Z"
   },
   {
    "duration": 11,
    "start_time": "2021-10-24T09:53:55.731Z"
   },
   {
    "duration": 11,
    "start_time": "2021-10-24T09:53:55.745Z"
   },
   {
    "duration": 7,
    "start_time": "2021-10-24T09:53:55.758Z"
   },
   {
    "duration": 41,
    "start_time": "2021-10-24T09:53:55.768Z"
   },
   {
    "duration": 757,
    "start_time": "2021-10-24T09:53:55.812Z"
   },
   {
    "duration": 139831,
    "start_time": "2021-10-24T09:53:56.571Z"
   },
   {
    "duration": 1705,
    "start_time": "2021-10-24T09:56:16.404Z"
   },
   {
    "duration": 18,
    "start_time": "2021-10-24T09:56:18.201Z"
   },
   {
    "duration": 11,
    "start_time": "2021-10-24T09:56:18.221Z"
   },
   {
    "duration": 23,
    "start_time": "2021-10-24T09:56:18.234Z"
   },
   {
    "duration": 42,
    "start_time": "2021-10-24T09:56:18.260Z"
   },
   {
    "duration": 8480,
    "start_time": "2021-10-24T09:56:18.304Z"
   },
   {
    "duration": 16,
    "start_time": "2021-10-24T09:56:26.786Z"
   }
  ],
  "kernelspec": {
   "display_name": "Python 3",
   "language": "python",
   "name": "python3"
  },
  "language_info": {
   "codemirror_mode": {
    "name": "ipython",
    "version": 3
   },
   "file_extension": ".py",
   "mimetype": "text/x-python",
   "name": "python",
   "nbconvert_exporter": "python",
   "pygments_lexer": "ipython3",
   "version": "3.8.8"
  },
  "toc": {
   "base_numbering": 1,
   "nav_menu": {},
   "number_sections": true,
   "sideBar": true,
   "skip_h1_title": false,
   "title_cell": "Table of Contents",
   "title_sidebar": "Contents",
   "toc_cell": false,
   "toc_position": {
    "height": "calc(100% - 180px)",
    "left": "10px",
    "top": "150px",
    "width": "261px"
   },
   "toc_section_display": true,
   "toc_window_display": true
  }
 },
 "nbformat": 4,
 "nbformat_minor": 5
}
